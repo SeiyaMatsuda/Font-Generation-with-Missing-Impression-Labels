{
 "cells": [
  {
   "cell_type": "markdown",
   "id": "451990a2",
   "metadata": {},
   "source": [
    "# ライブラリのimport"
   ]
  },
  {
   "cell_type": "code",
   "execution_count": 2,
   "id": "c0db2f4f",
   "metadata": {},
   "outputs": [],
   "source": [
    "from models.DCmodel import ACGenerator, CGenerator\n",
    "from options import get_parser\n",
    "from mylib import *\n",
    "import word2vec\n",
    "import torch\n",
    "from PIL import Image\n",
    "import random\n",
    "import torchvision.models as models\n",
    "from dataset import *\n",
    "from sklearn.model_selection import train_test_split\n",
    "import numpy as np\n",
    "import torch.nn as nn\n",
    "import pandas as pd\n",
    "import torch.optim as optim"
   ]
  },
  {
   "cell_type": "markdown",
   "id": "1e1eb7f1",
   "metadata": {},
   "source": [
    "# モデルのパスやword2vecモデルを定義"
   ]
  },
  {
   "cell_type": "code",
   "execution_count": 3,
   "id": "f26a331b",
   "metadata": {},
   "outputs": [
    {
     "name": "stderr",
     "output_type": "stream",
     "text": [
      " 11%|█▏        | 338123/3000000 [00:00<00:00, 3381023.64it/s]"
     ]
    },
    {
     "name": "stdout",
     "output_type": "stream",
     "text": [
      "Embedding　OK\n"
     ]
    },
    {
     "name": "stderr",
     "output_type": "stream",
     "text": [
      "100%|██████████| 3000000/3000000 [00:00<00:00, 3838425.65it/s]\n"
     ]
    }
   ],
   "source": [
    "Cmodel_path = '/home/matsuda/デスクトップ/Imp2Font/experiment/CGAN/model_100'\n",
    "ACmodel_path = '/home/matsuda/デスクトップ/Imp2Font/experiment/ACGAN/model_50'\n",
    "CPmodel_path = '/home/matsuda/デスクトップ/Imp2Font/experiment/CPGAN/model_50'\n",
    "Imp2Font_path = '/home/matsuda/デスクトップ/Imp2Font/experiment/Imp2Font/model_35r'\n",
    "parser = get_parser()\n",
    "opts = parser.parse_args(args=[])\n",
    "data = np.array([np.load(d) for d in opts.data])\n",
    "Embedding_model = word2vec.word2vec()\n",
    "weights = Embedding_model.vectors\n",
    "ID = {}\n",
    "c = 1\n",
    "mask = []\n",
    "for idx, key in tqdm.tqdm(enumerate(Embedding_model.vocab.keys()), total = len(Embedding_model.vocab.keys())):\n",
    "    if key in opts.w2v_vocab.keys():\n",
    "        ID[key] = c\n",
    "        c += 1\n",
    "        mask.append(idx)\n",
    "    else:\n",
    "        continue"
   ]
  },
  {
   "cell_type": "code",
   "execution_count": 4,
   "id": "61dfff20",
   "metadata": {},
   "outputs": [],
   "source": [
    "SEED = 1111\n",
    "random.seed(SEED)\n",
    "np.random.seed(SEED)\n",
    "torch.manual_seed(SEED)\n",
    "torch.cuda.manual_seed(SEED)\n",
    "torch.backends.cudnn.deterministic = True\n",
    "device ='cuda'"
   ]
  },
  {
   "cell_type": "markdown",
   "id": "7d1e2c1f",
   "metadata": {},
   "source": [
    "# 画像生成モデルと分類CNNの定義"
   ]
  },
  {
   "cell_type": "code",
   "execution_count": 18,
   "id": "0fab45f1",
   "metadata": {
    "collapsed": true,
    "jupyter": {
     "outputs_hidden": true
    },
    "tags": []
   },
   "outputs": [
    {
     "name": "stderr",
     "output_type": "stream",
     "text": [
      "100%|██████████| 17202/17202 [00:03<00:00, 5073.63it/s]\n",
      "100%|██████████| 1335/1335 [02:51<00:00,  7.76it/s]\n",
      "  0%|          | 0/1335 [00:00<?, ?it/s]"
     ]
    },
    {
     "name": "stdout",
     "output_type": "stream",
     "text": [
      "Epoch: 0, loss: 2.865401985225606.\n",
      "Epoch: 0, accuracy: 0.45574212670805325.\n",
      "Epoch: 0, accuracy: 0.5560497856745525.\n"
     ]
    },
    {
     "name": "stderr",
     "output_type": "stream",
     "text": [
      "100%|██████████| 1335/1335 [02:52<00:00,  7.76it/s]\n",
      "  0%|          | 1/1335 [00:00<03:30,  6.34it/s]"
     ]
    },
    {
     "name": "stdout",
     "output_type": "stream",
     "text": [
      "Epoch: 1, loss: 2.7222197186187858.\n",
      "Epoch: 1, accuracy: 0.5993947393455099.\n",
      "Epoch: 1, accuracy: 0.6053433604103269.\n"
     ]
    },
    {
     "name": "stderr",
     "output_type": "stream",
     "text": [
      "100%|██████████| 1335/1335 [02:54<00:00,  7.67it/s]\n",
      "  0%|          | 1/1335 [00:00<03:43,  5.97it/s]"
     ]
    },
    {
     "name": "stdout",
     "output_type": "stream",
     "text": [
      "Epoch: 2, loss: 2.681340490119734.\n",
      "Epoch: 2, accuracy: 0.6403763408966532.\n",
      "Epoch: 2, accuracy: 0.673372645078695.\n"
     ]
    },
    {
     "name": "stderr",
     "output_type": "stream",
     "text": [
      "100%|██████████| 1335/1335 [02:54<00:00,  7.63it/s]\n",
      "  0%|          | 1/1335 [00:00<03:30,  6.33it/s]"
     ]
    },
    {
     "name": "stdout",
     "output_type": "stream",
     "text": [
      "Epoch: 3, loss: 2.6420132310202953.\n",
      "Epoch: 3, accuracy: 0.6798590802592649.\n",
      "Epoch: 3, accuracy: 0.6496008367486338.\n"
     ]
    },
    {
     "name": "stderr",
     "output_type": "stream",
     "text": [
      "100%|██████████| 1335/1335 [02:54<00:00,  7.66it/s]\n",
      "  0%|          | 1/1335 [00:00<03:30,  6.34it/s]"
     ]
    },
    {
     "name": "stdout",
     "output_type": "stream",
     "text": [
      "Epoch: 4, loss: 2.6365504775600934.\n",
      "Epoch: 4, accuracy: 0.6853187181476921.\n",
      "Epoch: 4, accuracy: 0.6779690490944341.\n"
     ]
    },
    {
     "name": "stderr",
     "output_type": "stream",
     "text": [
      "100%|██████████| 1335/1335 [02:53<00:00,  7.68it/s]\n",
      "  0%|          | 0/1335 [00:00<?, ?it/s]"
     ]
    },
    {
     "name": "stdout",
     "output_type": "stream",
     "text": [
      "Epoch: 5, loss: 2.6329738272263317.\n",
      "Epoch: 5, accuracy: 0.6888752875258667.\n",
      "Epoch: 5, accuracy: 0.6948010357359052.\n"
     ]
    },
    {
     "name": "stderr",
     "output_type": "stream",
     "text": [
      "100%|██████████| 1335/1335 [02:55<00:00,  7.62it/s]\n",
      "  0%|          | 1/1335 [00:00<03:30,  6.33it/s]"
     ]
    },
    {
     "name": "stdout",
     "output_type": "stream",
     "text": [
      "Epoch: 6, loss: 2.6283386744809953.\n",
      "Epoch: 6, accuracy: 0.6935837640876985.\n",
      "Epoch: 6, accuracy: 0.6849745053949479.\n"
     ]
    },
    {
     "name": "stderr",
     "output_type": "stream",
     "text": [
      "100%|██████████| 1335/1335 [02:57<00:00,  7.52it/s]\n",
      "  0%|          | 1/1335 [00:00<03:26,  6.47it/s]"
     ]
    },
    {
     "name": "stdout",
     "output_type": "stream",
     "text": [
      "Epoch: 7, loss: 2.6308875151787805.\n",
      "Epoch: 7, accuracy: 0.6910029655781301.\n",
      "Epoch: 7, accuracy: 0.6798870241075227.\n"
     ]
    },
    {
     "name": "stderr",
     "output_type": "stream",
     "text": [
      "100%|██████████| 1335/1335 [02:55<00:00,  7.62it/s]\n",
      "  0%|          | 1/1335 [00:00<03:28,  6.41it/s]"
     ]
    },
    {
     "name": "stdout",
     "output_type": "stream",
     "text": [
      "Epoch: 8, loss: 2.6284088386578506.\n",
      "Epoch: 8, accuracy: 0.6935652592863373.\n",
      "Epoch: 8, accuracy: 0.6728372149144335.\n"
     ]
    },
    {
     "name": "stderr",
     "output_type": "stream",
     "text": [
      "100%|██████████| 1335/1335 [02:56<00:00,  7.55it/s]\n",
      "  0%|          | 1/1335 [00:00<03:18,  6.71it/s]"
     ]
    },
    {
     "name": "stdout",
     "output_type": "stream",
     "text": [
      "Epoch: 9, loss: 2.625194184521164.\n",
      "Epoch: 9, accuracy: 0.6967282575932482.\n",
      "Epoch: 9, accuracy: 0.7010438651385753.\n"
     ]
    },
    {
     "name": "stderr",
     "output_type": "stream",
     "text": [
      "100%|██████████| 1335/1335 [02:57<00:00,  7.52it/s]\n",
      "  0%|          | 0/1335 [00:00<?, ?it/s]"
     ]
    },
    {
     "name": "stdout",
     "output_type": "stream",
     "text": [
      "Epoch: 10, loss: 2.626650543070018.\n",
      "Epoch: 10, accuracy: 0.695298871915243.\n",
      "Epoch: 10, accuracy: 0.694906166151304.\n"
     ]
    },
    {
     "name": "stderr",
     "output_type": "stream",
     "text": [
      "100%|██████████| 1335/1335 [02:57<00:00,  7.53it/s]\n",
      "  0%|          | 1/1335 [00:00<03:10,  7.00it/s]"
     ]
    },
    {
     "name": "stdout",
     "output_type": "stream",
     "text": [
      "Epoch: 11, loss: 2.6241555099630176.\n",
      "Epoch: 11, accuracy: 0.6978821021026799.\n",
      "Epoch: 11, accuracy: 0.6877486701801315.\n"
     ]
    },
    {
     "name": "stderr",
     "output_type": "stream",
     "text": [
      "100%|██████████| 1335/1335 [02:56<00:00,  7.58it/s]\n",
      "  0%|          | 1/1335 [00:00<03:22,  6.57it/s]"
     ]
    },
    {
     "name": "stdout",
     "output_type": "stream",
     "text": [
      "Epoch: 12, loss: 2.5977537108717788.\n",
      "Epoch: 12, accuracy: 0.7242037591067672.\n",
      "Epoch: 12, accuracy: 0.7281746701269591.\n"
     ]
    },
    {
     "name": "stderr",
     "output_type": "stream",
     "text": [
      "100%|██████████| 1335/1335 [02:57<00:00,  7.53it/s]\n",
      "  0%|          | 1/1335 [00:00<03:30,  6.34it/s]"
     ]
    },
    {
     "name": "stdout",
     "output_type": "stream",
     "text": [
      "Epoch: 13, loss: 2.587845606214545.\n",
      "Epoch: 13, accuracy: 0.7341356534212371.\n",
      "Epoch: 13, accuracy: 0.7269724766655213.\n"
     ]
    },
    {
     "name": "stderr",
     "output_type": "stream",
     "text": [
      "100%|██████████| 1335/1335 [02:57<00:00,  7.54it/s]\n",
      "  0%|          | 1/1335 [00:00<03:13,  6.91it/s]"
     ]
    },
    {
     "name": "stdout",
     "output_type": "stream",
     "text": [
      "Epoch: 14, loss: 2.5772455678004005.\n",
      "Epoch: 14, accuracy: 0.7447927488969267.\n",
      "Epoch: 14, accuracy: 0.7596656073099702.\n"
     ]
    },
    {
     "name": "stderr",
     "output_type": "stream",
     "text": [
      "100%|██████████| 1335/1335 [02:58<00:00,  7.50it/s]\n",
      "  0%|          | 0/1335 [00:00<?, ?it/s]"
     ]
    },
    {
     "name": "stdout",
     "output_type": "stream",
     "text": [
      "Epoch: 15, loss: 2.5568476273325946.\n",
      "Epoch: 15, accuracy: 0.7651701960734014.\n",
      "Epoch: 15, accuracy: 0.7663669842691666.\n"
     ]
    },
    {
     "name": "stderr",
     "output_type": "stream",
     "text": [
      "100%|██████████| 1335/1335 [02:55<00:00,  7.59it/s]\n",
      "  0%|          | 1/1335 [00:00<03:31,  6.30it/s]"
     ]
    },
    {
     "name": "stdout",
     "output_type": "stream",
     "text": [
      "Epoch: 16, loss: 2.55569242323829.\n",
      "Epoch: 16, accuracy: 0.7663259779086073.\n",
      "Epoch: 16, accuracy: 0.7628069935947777.\n"
     ]
    },
    {
     "name": "stderr",
     "output_type": "stream",
     "text": [
      "100%|██████████| 1335/1335 [02:55<00:00,  7.61it/s]\n",
      "  0%|          | 1/1335 [00:00<03:30,  6.34it/s]"
     ]
    },
    {
     "name": "stdout",
     "output_type": "stream",
     "text": [
      "Epoch: 17, loss: 2.5557373391555043.\n",
      "Epoch: 17, accuracy: 0.7662859220281155.\n",
      "Epoch: 17, accuracy: 0.7640677277616897.\n"
     ]
    },
    {
     "name": "stderr",
     "output_type": "stream",
     "text": [
      "100%|██████████| 1335/1335 [02:57<00:00,  7.51it/s]\n",
      "  0%|          | 1/1335 [00:00<03:19,  6.70it/s]"
     ]
    },
    {
     "name": "stdout",
     "output_type": "stream",
     "text": [
      "Epoch: 18, loss: 2.5543254670132414.\n",
      "Epoch: 18, accuracy: 0.7677113528893678.\n",
      "Epoch: 18, accuracy: 0.7381392440528779.\n"
     ]
    },
    {
     "name": "stderr",
     "output_type": "stream",
     "text": [
      "100%|██████████| 1335/1335 [02:56<00:00,  7.56it/s]\n",
      "  0%|          | 1/1335 [00:00<03:24,  6.53it/s]"
     ]
    },
    {
     "name": "stdout",
     "output_type": "stream",
     "text": [
      "Epoch: 19, loss: 2.5565976164314184.\n",
      "Epoch: 19, accuracy: 0.7654490373762249.\n",
      "Epoch: 19, accuracy: 0.7662548238563855.\n"
     ]
    },
    {
     "name": "stderr",
     "output_type": "stream",
     "text": [
      "100%|██████████| 1335/1335 [02:55<00:00,  7.62it/s]\n",
      "  0%|          | 0/1335 [00:00<?, ?it/s]"
     ]
    },
    {
     "name": "stdout",
     "output_type": "stream",
     "text": [
      "Epoch: 20, loss: 2.5525181818544196.\n",
      "Epoch: 20, accuracy: 0.7695075611820841.\n",
      "Epoch: 20, accuracy: 0.7724042182029385.\n"
     ]
    },
    {
     "name": "stderr",
     "output_type": "stream",
     "text": [
      "100%|██████████| 1335/1335 [02:57<00:00,  7.53it/s]\n",
      "  0%|          | 1/1335 [00:00<03:30,  6.33it/s]"
     ]
    },
    {
     "name": "stdout",
     "output_type": "stream",
     "text": [
      "Epoch: 21, loss: 2.5511204226633137.\n",
      "Epoch: 21, accuracy: 0.7708915332717665.\n",
      "Epoch: 21, accuracy: 0.7708837575872846.\n"
     ]
    },
    {
     "name": "stderr",
     "output_type": "stream",
     "text": [
      "100%|██████████| 1335/1335 [02:56<00:00,  7.55it/s]\n",
      "  0%|          | 1/1335 [00:00<03:32,  6.28it/s]"
     ]
    },
    {
     "name": "stdout",
     "output_type": "stream",
     "text": [
      "Epoch: 22, loss: 2.5515735853030885.\n",
      "Epoch: 22, accuracy: 0.7704775200733672.\n",
      "Epoch: 22, accuracy: 0.7719012538447696.\n"
     ]
    },
    {
     "name": "stderr",
     "output_type": "stream",
     "text": [
      "100%|██████████| 1335/1335 [03:03<00:00,  7.27it/s]\n",
      "  0%|          | 1/1335 [00:00<03:45,  5.91it/s]"
     ]
    },
    {
     "name": "stdout",
     "output_type": "stream",
     "text": [
      "Epoch: 23, loss: 2.5509401366058806.\n",
      "Epoch: 23, accuracy: 0.7710865484924667.\n",
      "Epoch: 23, accuracy: 0.770572776066719.\n"
     ]
    },
    {
     "name": "stderr",
     "output_type": "stream",
     "text": [
      "100%|██████████| 1335/1335 [03:00<00:00,  7.42it/s]\n",
      "  0%|          | 1/1335 [00:00<03:18,  6.71it/s]"
     ]
    },
    {
     "name": "stdout",
     "output_type": "stream",
     "text": [
      "Epoch: 24, loss: 2.553330804524797.\n",
      "Epoch: 24, accuracy: 0.7686604554666256.\n",
      "Epoch: 24, accuracy: 0.766694518238114.\n"
     ]
    },
    {
     "name": "stderr",
     "output_type": "stream",
     "text": [
      "100%|██████████| 1335/1335 [02:57<00:00,  7.54it/s]\n",
      "  0%|          | 0/1335 [00:00<?, ?it/s]"
     ]
    },
    {
     "name": "stdout",
     "output_type": "stream",
     "text": [
      "Epoch: 25, loss: 2.5528702526949765.\n",
      "Epoch: 25, accuracy: 0.7691593235339388.\n",
      "Epoch: 25, accuracy: 0.7703504364222374.\n"
     ]
    },
    {
     "name": "stderr",
     "output_type": "stream",
     "text": [
      "100%|██████████| 1335/1335 [02:57<00:00,  7.52it/s]\n",
      "  0%|          | 1/1335 [00:00<03:32,  6.28it/s]"
     ]
    },
    {
     "name": "stdout",
     "output_type": "stream",
     "text": [
      "Epoch: 26, loss: 2.553201305017936.\n",
      "Epoch: 26, accuracy: 0.7688573679304979.\n",
      "Epoch: 26, accuracy: 0.7108679669349824.\n"
     ]
    },
    {
     "name": "stderr",
     "output_type": "stream",
     "text": [
      "100%|██████████| 1335/1335 [02:57<00:00,  7.51it/s]\n",
      "  0%|          | 1/1335 [00:00<03:29,  6.38it/s]"
     ]
    },
    {
     "name": "stdout",
     "output_type": "stream",
     "text": [
      "Epoch: 27, loss: 2.5516687052080247.\n",
      "Epoch: 27, accuracy: 0.7703828583277751.\n",
      "Epoch: 27, accuracy: 0.7678336973593797.\n"
     ]
    },
    {
     "name": "stderr",
     "output_type": "stream",
     "text": [
      "100%|██████████| 1335/1335 [02:56<00:00,  7.58it/s]\n",
      "  0%|          | 1/1335 [00:00<03:24,  6.51it/s]"
     ]
    },
    {
     "name": "stdout",
     "output_type": "stream",
     "text": [
      "Epoch: 28, loss: 2.5505827616216536.\n",
      "Epoch: 28, accuracy: 0.7714371376532759.\n",
      "Epoch: 28, accuracy: 0.7715761484203724.\n"
     ]
    },
    {
     "name": "stderr",
     "output_type": "stream",
     "text": [
      "100%|██████████| 1335/1335 [02:56<00:00,  7.56it/s]\n",
      "  0%|          | 1/1335 [00:00<03:42,  6.00it/s]"
     ]
    },
    {
     "name": "stdout",
     "output_type": "stream",
     "text": [
      "Epoch: 29, loss: 2.5500984024019275.\n",
      "Epoch: 29, accuracy: 0.7719540562524584.\n",
      "Epoch: 29, accuracy: 0.7715949376861031.\n"
     ]
    },
    {
     "name": "stderr",
     "output_type": "stream",
     "text": [
      "100%|██████████| 1335/1335 [02:56<00:00,  7.56it/s]\n",
      "  0%|          | 0/1335 [00:00<?, ?it/s]"
     ]
    },
    {
     "name": "stdout",
     "output_type": "stream",
     "text": [
      "Epoch: 30, loss: 2.5513373105267014.\n",
      "Epoch: 30, accuracy: 0.7707013012415986.\n",
      "Epoch: 30, accuracy: 0.7686124932512026.\n"
     ]
    },
    {
     "name": "stderr",
     "output_type": "stream",
     "text": [
      "100%|██████████| 1335/1335 [02:57<00:00,  7.52it/s]\n",
      "  0%|          | 1/1335 [00:00<03:30,  6.34it/s]"
     ]
    },
    {
     "name": "stdout",
     "output_type": "stream",
     "text": [
      "Epoch: 31, loss: 2.549992233626405.\n",
      "Epoch: 31, accuracy: 0.7720438546423135.\n",
      "Epoch: 31, accuracy: 0.7730286097886194.\n"
     ]
    },
    {
     "name": "stderr",
     "output_type": "stream",
     "text": [
      "100%|██████████| 1335/1335 [02:56<00:00,  7.58it/s]\n",
      "  0%|          | 1/1335 [00:00<03:26,  6.46it/s]"
     ]
    },
    {
     "name": "stdout",
     "output_type": "stream",
     "text": [
      "Epoch: 32, loss: 2.5486518038346078.\n",
      "Epoch: 32, accuracy: 0.773387931181913.\n",
      "Epoch: 32, accuracy: 0.7680066352949838.\n"
     ]
    },
    {
     "name": "stderr",
     "output_type": "stream",
     "text": [
      "100%|██████████| 1335/1335 [02:56<00:00,  7.56it/s]\n",
      "  0%|          | 1/1335 [00:00<03:28,  6.40it/s]"
     ]
    },
    {
     "name": "stdout",
     "output_type": "stream",
     "text": [
      "Epoch: 33, loss: 2.5506889691513575.\n",
      "Epoch: 33, accuracy: 0.771375811271869.\n",
      "Epoch: 33, accuracy: 0.7637589830584732.\n"
     ]
    },
    {
     "name": "stderr",
     "output_type": "stream",
     "text": [
      "100%|██████████| 1335/1335 [02:56<00:00,  7.55it/s]\n",
      "  0%|          | 1/1335 [00:00<03:16,  6.78it/s]"
     ]
    },
    {
     "name": "stdout",
     "output_type": "stream",
     "text": [
      "Epoch: 34, loss: 2.5514464103327263.\n",
      "Epoch: 34, accuracy: 0.7705989302755117.\n",
      "Epoch: 34, accuracy: 0.7685049982003206.\n"
     ]
    },
    {
     "name": "stderr",
     "output_type": "stream",
     "text": [
      "100%|██████████| 1335/1335 [02:57<00:00,  7.54it/s]\n",
      "  0%|          | 0/1335 [00:00<?, ?it/s]"
     ]
    },
    {
     "name": "stdout",
     "output_type": "stream",
     "text": [
      "Epoch: 35, loss: 2.548433952831597.\n",
      "Epoch: 35, accuracy: 0.7736322747250868.\n",
      "Epoch: 35, accuracy: 0.7723879213908249.\n"
     ]
    },
    {
     "name": "stderr",
     "output_type": "stream",
     "text": [
      "100%|██████████| 1335/1335 [02:54<00:00,  7.65it/s]\n",
      "  0%|          | 1/1335 [00:00<03:36,  6.15it/s]"
     ]
    },
    {
     "name": "stdout",
     "output_type": "stream",
     "text": [
      "Epoch: 36, loss: 2.5513915985264584.\n",
      "Epoch: 36, accuracy: 0.7706569565226686.\n",
      "Epoch: 36, accuracy: 0.7704275746662412.\n"
     ]
    },
    {
     "name": "stderr",
     "output_type": "stream",
     "text": [
      "100%|██████████| 1335/1335 [02:56<00:00,  7.58it/s]\n",
      "  0%|          | 1/1335 [00:00<03:47,  5.87it/s]"
     ]
    },
    {
     "name": "stdout",
     "output_type": "stream",
     "text": [
      "Epoch: 37, loss: 2.5497421784347365.\n",
      "Epoch: 37, accuracy: 0.772338929399039.\n",
      "Epoch: 37, accuracy: 0.768888580421125.\n"
     ]
    },
    {
     "name": "stderr",
     "output_type": "stream",
     "text": [
      "100%|██████████| 1335/1335 [02:57<00:00,  7.53it/s]\n",
      "  0%|          | 1/1335 [00:00<03:38,  6.12it/s]"
     ]
    },
    {
     "name": "stdout",
     "output_type": "stream",
     "text": [
      "Epoch: 38, loss: 2.551749724841743.\n",
      "Epoch: 38, accuracy: 0.7702907084252562.\n",
      "Epoch: 38, accuracy: 0.7699997034619286.\n"
     ]
    },
    {
     "name": "stderr",
     "output_type": "stream",
     "text": [
      "100%|██████████| 1335/1335 [02:57<00:00,  7.52it/s]\n",
      "  0%|          | 1/1335 [00:00<03:37,  6.13it/s]"
     ]
    },
    {
     "name": "stdout",
     "output_type": "stream",
     "text": [
      "Epoch: 39, loss: 2.5496118190136743.\n",
      "Epoch: 39, accuracy: 0.7724286877062917.\n",
      "Epoch: 39, accuracy: 0.7720954095906547.\n"
     ]
    },
    {
     "name": "stderr",
     "output_type": "stream",
     "text": [
      "100%|██████████| 1335/1335 [02:56<00:00,  7.57it/s]\n",
      "  0%|          | 0/1335 [00:00<?, ?it/s]"
     ]
    },
    {
     "name": "stdout",
     "output_type": "stream",
     "text": [
      "Epoch: 40, loss: 2.5495237604062657.\n",
      "Epoch: 40, accuracy: 0.772530150133395.\n",
      "Epoch: 40, accuracy: 0.7730473990543504.\n"
     ]
    },
    {
     "name": "stderr",
     "output_type": "stream",
     "text": [
      "100%|██████████| 1335/1335 [02:56<00:00,  7.57it/s]\n",
      "  0%|          | 1/1335 [00:00<03:29,  6.38it/s]"
     ]
    },
    {
     "name": "stdout",
     "output_type": "stream",
     "text": [
      "Epoch: 41, loss: 2.5462305751186185.\n",
      "Epoch: 41, accuracy: 0.7758374725300566.\n",
      "Epoch: 41, accuracy: 0.7717398834503124.\n"
     ]
    },
    {
     "name": "stderr",
     "output_type": "stream",
     "text": [
      "100%|██████████| 1335/1335 [02:58<00:00,  7.48it/s]\n",
      "  0%|          | 1/1335 [00:00<03:19,  6.68it/s]"
     ]
    },
    {
     "name": "stdout",
     "output_type": "stream",
     "text": [
      "Epoch: 42, loss: 2.5498652617136637.\n",
      "Epoch: 42, accuracy: 0.7722057749944418.\n",
      "Epoch: 42, accuracy: 0.7681097206202349.\n"
     ]
    },
    {
     "name": "stderr",
     "output_type": "stream",
     "text": [
      "100%|██████████| 1335/1335 [02:57<00:00,  7.53it/s]\n",
      "  0%|          | 1/1335 [00:00<03:24,  6.51it/s]"
     ]
    },
    {
     "name": "stdout",
     "output_type": "stream",
     "text": [
      "Epoch: 43, loss: 2.546824046645718.\n",
      "Epoch: 43, accuracy: 0.7752395737135087.\n",
      "Epoch: 43, accuracy: 0.7715013109027846.\n"
     ]
    },
    {
     "name": "stderr",
     "output_type": "stream",
     "text": [
      "100%|██████████| 1335/1335 [02:55<00:00,  7.61it/s]\n",
      "  0%|          | 1/1335 [00:00<03:17,  6.74it/s]"
     ]
    },
    {
     "name": "stdout",
     "output_type": "stream",
     "text": [
      "Epoch: 44, loss: 2.5479293901822095.\n",
      "Epoch: 44, accuracy: 0.7741521193542318.\n",
      "Epoch: 44, accuracy: 0.7713540005030922.\n"
     ]
    },
    {
     "name": "stderr",
     "output_type": "stream",
     "text": [
      "100%|██████████| 1335/1335 [02:57<00:00,  7.51it/s]\n",
      "  0%|          | 0/1335 [00:00<?, ?it/s]"
     ]
    },
    {
     "name": "stdout",
     "output_type": "stream",
     "text": [
      "Epoch: 45, loss: 2.5339399589581437.\n",
      "Epoch: 45, accuracy: 0.7881253153164709.\n",
      "Epoch: 45, accuracy: 0.8046857105461208.\n"
     ]
    },
    {
     "name": "stderr",
     "output_type": "stream",
     "text": [
      "100%|██████████| 1335/1335 [02:57<00:00,  7.54it/s]\n",
      "  0%|          | 1/1335 [00:00<03:26,  6.45it/s]"
     ]
    },
    {
     "name": "stdout",
     "output_type": "stream",
     "text": [
      "Epoch: 46, loss: 2.5168874378061474.\n",
      "Epoch: 46, accuracy: 0.8051685713919243.\n",
      "Epoch: 46, accuracy: 0.8053218614001505.\n"
     ]
    },
    {
     "name": "stderr",
     "output_type": "stream",
     "text": [
      "100%|██████████| 1335/1335 [02:57<00:00,  7.50it/s]\n",
      "  0%|          | 1/1335 [00:00<03:21,  6.62it/s]"
     ]
    },
    {
     "name": "stdout",
     "output_type": "stream",
     "text": [
      "Epoch: 47, loss: 2.515220832288935.\n",
      "Epoch: 47, accuracy: 0.8068408175568211.\n",
      "Epoch: 47, accuracy: 0.798676532692811.\n"
     ]
    },
    {
     "name": "stderr",
     "output_type": "stream",
     "text": [
      "100%|██████████| 1335/1335 [02:55<00:00,  7.62it/s]\n",
      "  0%|          | 1/1335 [00:00<03:28,  6.39it/s]"
     ]
    },
    {
     "name": "stdout",
     "output_type": "stream",
     "text": [
      "Epoch: 48, loss: 2.517150911052575.\n",
      "Epoch: 48, accuracy: 0.8049154497588631.\n",
      "Epoch: 48, accuracy: 0.8088490667231111.\n"
     ]
    },
    {
     "name": "stderr",
     "output_type": "stream",
     "text": [
      "100%|██████████| 1335/1335 [02:55<00:00,  7.59it/s]\n",
      "  0%|          | 1/1335 [00:00<03:21,  6.61it/s]"
     ]
    },
    {
     "name": "stdout",
     "output_type": "stream",
     "text": [
      "Epoch: 49, loss: 2.513638788751895.\n",
      "Epoch: 49, accuracy: 0.808431508987054.\n",
      "Epoch: 49, accuracy: 0.808311016287098.\n"
     ]
    },
    {
     "name": "stderr",
     "output_type": "stream",
     "text": [
      "100%|██████████| 1335/1335 [02:57<00:00,  7.50it/s]\n",
      "  0%|          | 0/1335 [00:00<?, ?it/s]"
     ]
    },
    {
     "name": "stdout",
     "output_type": "stream",
     "text": [
      "Epoch: 50, loss: 2.514579498991091.\n",
      "Epoch: 50, accuracy: 0.8074986398636979.\n",
      "Epoch: 50, accuracy: 0.8025243698054709.\n"
     ]
    },
    {
     "name": "stderr",
     "output_type": "stream",
     "text": [
      "100%|██████████| 1335/1335 [02:57<00:00,  7.53it/s]\n",
      "  0%|          | 1/1335 [00:00<03:13,  6.91it/s]"
     ]
    },
    {
     "name": "stdout",
     "output_type": "stream",
     "text": [
      "Epoch: 51, loss: 2.51516595976183.\n",
      "Epoch: 51, accuracy: 0.8069094790544353.\n",
      "Epoch: 51, accuracy: 0.8043581126681063.\n"
     ]
    },
    {
     "name": "stderr",
     "output_type": "stream",
     "text": [
      "100%|██████████| 1335/1335 [02:56<00:00,  7.58it/s]\n",
      "  0%|          | 1/1335 [00:00<03:10,  6.99it/s]"
     ]
    },
    {
     "name": "stdout",
     "output_type": "stream",
     "text": [
      "Epoch: 52, loss: 2.513480302189173.\n",
      "Epoch: 52, accuracy: 0.808577316133087.\n",
      "Epoch: 52, accuracy: 0.8070645977512187.\n"
     ]
    },
    {
     "name": "stderr",
     "output_type": "stream",
     "text": [
      "100%|██████████| 1335/1335 [02:57<00:00,  7.54it/s]\n",
      "  0%|          | 1/1335 [00:00<03:40,  6.05it/s]"
     ]
    },
    {
     "name": "stdout",
     "output_type": "stream",
     "text": [
      "Epoch: 53, loss: 2.513274135125264.\n",
      "Epoch: 53, accuracy: 0.8087841958040464.\n",
      "Epoch: 53, accuracy: 0.8071462096299205.\n"
     ]
    },
    {
     "name": "stderr",
     "output_type": "stream",
     "text": [
      "100%|██████████| 1335/1335 [02:56<00:00,  7.57it/s]\n",
      "  0%|          | 1/1335 [00:00<03:17,  6.76it/s]"
     ]
    },
    {
     "name": "stdout",
     "output_type": "stream",
     "text": [
      "Epoch: 54, loss: 2.5144318682424136.\n",
      "Epoch: 54, accuracy: 0.8076113120585569.\n",
      "Epoch: 54, accuracy: 0.7998132832695266.\n"
     ]
    },
    {
     "name": "stderr",
     "output_type": "stream",
     "text": [
      "100%|██████████| 1335/1335 [02:57<00:00,  7.54it/s]\n",
      "  0%|          | 0/1335 [00:00<?, ?it/s]"
     ]
    },
    {
     "name": "stdout",
     "output_type": "stream",
     "text": [
      "Epoch: 55, loss: 2.5163463310356.\n",
      "Epoch: 55, accuracy: 0.8057313578489217.\n",
      "Epoch: 55, accuracy: 0.8100093997455907.\n"
     ]
    },
    {
     "name": "stderr",
     "output_type": "stream",
     "text": [
      "100%|██████████| 1335/1335 [02:56<00:00,  7.58it/s]\n",
      "  0%|          | 1/1335 [00:00<03:34,  6.21it/s]"
     ]
    },
    {
     "name": "stdout",
     "output_type": "stream",
     "text": [
      "Epoch: 56, loss: 2.513993002502213.\n",
      "Epoch: 56, accuracy: 0.8080741191447334.\n",
      "Epoch: 56, accuracy: 0.8024891559094925.\n"
     ]
    },
    {
     "name": "stderr",
     "output_type": "stream",
     "text": [
      "100%|██████████| 1335/1335 [02:56<00:00,  7.58it/s]\n",
      "  0%|          | 1/1335 [00:00<03:27,  6.43it/s]"
     ]
    },
    {
     "name": "stdout",
     "output_type": "stream",
     "text": [
      "Epoch: 57, loss: 2.5151676481582697.\n",
      "Epoch: 57, accuracy: 0.8068978550997895.\n",
      "Epoch: 57, accuracy: 0.8069545463376526.\n"
     ]
    },
    {
     "name": "stderr",
     "output_type": "stream",
     "text": [
      "100%|██████████| 1335/1335 [02:59<00:00,  7.46it/s]\n",
      "  0%|          | 1/1335 [00:00<03:27,  6.43it/s]"
     ]
    },
    {
     "name": "stdout",
     "output_type": "stream",
     "text": [
      "Epoch: 58, loss: 2.5118933534800783.\n",
      "Epoch: 58, accuracy: 0.8101447195714261.\n",
      "Epoch: 58, accuracy: 0.8092796221082427.\n"
     ]
    },
    {
     "name": "stderr",
     "output_type": "stream",
     "text": [
      "100%|██████████| 1335/1335 [02:57<00:00,  7.52it/s]\n",
      "  0%|          | 1/1335 [00:00<03:11,  6.98it/s]"
     ]
    },
    {
     "name": "stdout",
     "output_type": "stream",
     "text": [
      "Epoch: 59, loss: 2.5128186729516875.\n",
      "Epoch: 59, accuracy: 0.809256155084398.\n",
      "Epoch: 59, accuracy: 0.8033429810461045.\n"
     ]
    },
    {
     "name": "stderr",
     "output_type": "stream",
     "text": [
      "100%|██████████| 1335/1335 [02:54<00:00,  7.65it/s]\n",
      "  0%|          | 0/1335 [00:00<?, ?it/s]"
     ]
    },
    {
     "name": "stdout",
     "output_type": "stream",
     "text": [
      "Epoch: 60, loss: 2.5104127651743227.\n",
      "Epoch: 60, accuracy: 0.8116453587553231.\n",
      "Epoch: 60, accuracy: 0.8097495454787147.\n"
     ]
    },
    {
     "name": "stderr",
     "output_type": "stream",
     "text": [
      "100%|██████████| 1335/1335 [02:57<00:00,  7.54it/s]\n",
      "  0%|          | 1/1335 [00:00<03:22,  6.58it/s]"
     ]
    },
    {
     "name": "stdout",
     "output_type": "stream",
     "text": [
      "Epoch: 61, loss: 2.5119666167412804.\n",
      "Epoch: 61, accuracy: 0.810116488058591.\n",
      "Epoch: 61, accuracy: 0.8096279265240012.\n"
     ]
    },
    {
     "name": "stderr",
     "output_type": "stream",
     "text": [
      "100%|██████████| 1335/1335 [02:56<00:00,  7.55it/s]\n",
      "  0%|          | 1/1335 [00:00<03:23,  6.55it/s]"
     ]
    },
    {
     "name": "stdout",
     "output_type": "stream",
     "text": [
      "Epoch: 62, loss: 2.5122478283299934.\n",
      "Epoch: 62, accuracy: 0.8098082662083355.\n",
      "Epoch: 62, accuracy: 0.8080211886677464.\n"
     ]
    },
    {
     "name": "stderr",
     "output_type": "stream",
     "text": [
      "100%|██████████| 1335/1335 [02:56<00:00,  7.56it/s]\n",
      "  0%|          | 1/1335 [00:00<03:23,  6.57it/s]"
     ]
    },
    {
     "name": "stdout",
     "output_type": "stream",
     "text": [
      "Epoch: 63, loss: 2.5118947661324835.\n",
      "Epoch: 63, accuracy: 0.8101642531595781.\n",
      "Epoch: 63, accuracy: 0.8086456441624946.\n"
     ]
    },
    {
     "name": "stderr",
     "output_type": "stream",
     "text": [
      "100%|██████████| 1335/1335 [02:56<00:00,  7.56it/s]\n",
      "  0%|          | 1/1335 [00:00<03:30,  6.32it/s]"
     ]
    },
    {
     "name": "stdout",
     "output_type": "stream",
     "text": [
      "Epoch: 64, loss: 2.513748770795958.\n",
      "Epoch: 64, accuracy: 0.8083150022232485.\n",
      "Epoch: 64, accuracy: 0.8077521954042733.\n"
     ]
    },
    {
     "name": "stderr",
     "output_type": "stream",
     "text": [
      "100%|██████████| 1335/1335 [02:58<00:00,  7.48it/s]\n",
      "  0%|          | 0/1335 [00:00<?, ?it/s]"
     ]
    },
    {
     "name": "stdout",
     "output_type": "stream",
     "text": [
      "Epoch: 65, loss: 2.5118614321790833.\n",
      "Epoch: 65, accuracy: 0.8102106153694868.\n",
      "Epoch: 65, accuracy: 0.8089145735169007.\n"
     ]
    },
    {
     "name": "stderr",
     "output_type": "stream",
     "text": [
      "100%|██████████| 1335/1335 [02:59<00:00,  7.45it/s]\n",
      "  0%|          | 1/1335 [00:00<03:17,  6.77it/s]"
     ]
    },
    {
     "name": "stdout",
     "output_type": "stream",
     "text": [
      "Epoch: 66, loss: 2.5101099198230643.\n",
      "Epoch: 66, accuracy: 0.8119589783960119.\n",
      "Epoch: 66, accuracy: 0.8045172462452146.\n"
     ]
    },
    {
     "name": "stderr",
     "output_type": "stream",
     "text": [
      "100%|██████████| 1335/1335 [02:58<00:00,  7.49it/s]\n",
      "  0%|          | 1/1335 [00:00<03:31,  6.31it/s]"
     ]
    },
    {
     "name": "stdout",
     "output_type": "stream",
     "text": [
      "Epoch: 67, loss: 2.5115490113304797.\n",
      "Epoch: 67, accuracy: 0.8105452115720075.\n",
      "Epoch: 67, accuracy: 0.8097426432994667.\n"
     ]
    },
    {
     "name": "stderr",
     "output_type": "stream",
     "text": [
      "100%|██████████| 1335/1335 [02:55<00:00,  7.59it/s]\n",
      "  0%|          | 1/1335 [00:00<03:36,  6.17it/s]"
     ]
    },
    {
     "name": "stdout",
     "output_type": "stream",
     "text": [
      "Epoch: 68, loss: 2.5120224633020407.\n",
      "Epoch: 68, accuracy: 0.8100477063131702.\n",
      "Epoch: 68, accuracy: 0.8068446227422206.\n"
     ]
    },
    {
     "name": "stderr",
     "output_type": "stream",
     "text": [
      "100%|██████████| 1335/1335 [02:57<00:00,  7.52it/s]\n",
      "  0%|          | 1/1335 [00:00<03:43,  5.97it/s]"
     ]
    },
    {
     "name": "stdout",
     "output_type": "stream",
     "text": [
      "Epoch: 69, loss: 2.5146861554978046.\n",
      "Epoch: 69, accuracy: 0.8073762810399673.\n",
      "Epoch: 69, accuracy: 0.802903222755309.\n"
     ]
    },
    {
     "name": "stderr",
     "output_type": "stream",
     "text": [
      "100%|██████████| 1335/1335 [02:56<00:00,  7.56it/s]\n",
      "  0%|          | 0/1335 [00:00<?, ?it/s]"
     ]
    },
    {
     "name": "stdout",
     "output_type": "stream",
     "text": [
      "Epoch: 70, loss: 2.5151059693611515.\n",
      "Epoch: 70, accuracy: 0.8069651938715304.\n",
      "Epoch: 70, accuracy: 0.8088515591767285.\n"
     ]
    },
    {
     "name": "stderr",
     "output_type": "stream",
     "text": [
      "100%|██████████| 1335/1335 [02:57<00:00,  7.54it/s]\n",
      "  0%|          | 1/1335 [00:00<03:33,  6.24it/s]"
     ]
    },
    {
     "name": "stdout",
     "output_type": "stream",
     "text": [
      "Epoch: 71, loss: 2.512709688693843.\n",
      "Epoch: 71, accuracy: 0.8093561344552187.\n",
      "Epoch: 71, accuracy: 0.8036331282107915.\n"
     ]
    },
    {
     "name": "stderr",
     "output_type": "stream",
     "text": [
      "100%|██████████| 1335/1335 [02:57<00:00,  7.53it/s]\n",
      "  0%|          | 1/1335 [00:00<03:10,  6.99it/s]"
     ]
    },
    {
     "name": "stdout",
     "output_type": "stream",
     "text": [
      "Epoch: 72, loss: 2.5127195383279064.\n",
      "Epoch: 72, accuracy: 0.809360129354574.\n",
      "Epoch: 72, accuracy: 0.8107812295490985.\n"
     ]
    },
    {
     "name": "stderr",
     "output_type": "stream",
     "text": [
      "100%|██████████| 1335/1335 [02:57<00:00,  7.54it/s]\n",
      "  0%|          | 1/1335 [00:00<03:12,  6.94it/s]"
     ]
    },
    {
     "name": "stdout",
     "output_type": "stream",
     "text": [
      "Epoch: 73, loss: 2.511565078421032.\n",
      "Epoch: 73, accuracy: 0.810490525541703.\n",
      "Epoch: 73, accuracy: 0.8082713287564216.\n"
     ]
    },
    {
     "name": "stderr",
     "output_type": "stream",
     "text": [
      "100%|██████████| 1335/1335 [02:58<00:00,  7.48it/s]\n",
      "  0%|          | 1/1335 [00:00<03:29,  6.37it/s]"
     ]
    },
    {
     "name": "stdout",
     "output_type": "stream",
     "text": [
      "Epoch: 74, loss: 2.5132884598849863.\n",
      "Epoch: 74, accuracy: 0.8087768206052366.\n",
      "Epoch: 74, accuracy: 0.803836486862341.\n"
     ]
    },
    {
     "name": "stderr",
     "output_type": "stream",
     "text": [
      "100%|██████████| 1335/1335 [02:56<00:00,  7.57it/s]\n"
     ]
    },
    {
     "name": "stdout",
     "output_type": "stream",
     "text": [
      "Epoch: 75, loss: 2.5142060226268983.\n",
      "Epoch: 75, accuracy: 0.8078726773468096.\n",
      "Epoch: 75, accuracy: 0.8072423288668564.\n"
     ]
    },
    {
     "name": "stderr",
     "output_type": "stream",
     "text": [
      "100%|██████████| 1335/1335 [02:55<00:00,  7.63it/s]\n",
      "  0%|          | 1/1335 [00:00<03:13,  6.88it/s]"
     ]
    },
    {
     "name": "stdout",
     "output_type": "stream",
     "text": [
      "Epoch: 76, loss: 2.5125284121724105.\n",
      "Epoch: 76, accuracy: 0.809548838245857.\n",
      "Epoch: 76, accuracy: 0.8091039999918196.\n"
     ]
    },
    {
     "name": "stderr",
     "output_type": "stream",
     "text": [
      "100%|██████████| 1335/1335 [02:57<00:00,  7.54it/s]\n",
      "  0%|          | 1/1335 [00:00<03:39,  6.07it/s]"
     ]
    },
    {
     "name": "stdout",
     "output_type": "stream",
     "text": [
      "Epoch: 77, loss: 2.5124693945552528.\n",
      "Epoch: 77, accuracy: 0.8096078131145998.\n",
      "Epoch: 77, accuracy: 0.8012775678151892.\n"
     ]
    },
    {
     "name": "stderr",
     "output_type": "stream",
     "text": [
      "100%|██████████| 1335/1335 [02:56<00:00,  7.55it/s]\n",
      "  0%|          | 1/1335 [00:00<03:11,  6.95it/s]"
     ]
    },
    {
     "name": "stdout",
     "output_type": "stream",
     "text": [
      "Epoch: 78, loss: 2.512328148781137.\n",
      "Epoch: 78, accuracy: 0.8097312408077232.\n",
      "Epoch: 78, accuracy: 0.809698226497824.\n"
     ]
    },
    {
     "name": "stderr",
     "output_type": "stream",
     "text": [
      "100%|██████████| 1335/1335 [02:56<00:00,  7.54it/s]\n",
      "  0%|          | 1/1335 [00:00<03:13,  6.88it/s]"
     ]
    },
    {
     "name": "stdout",
     "output_type": "stream",
     "text": [
      "Epoch: 79, loss: 2.511179026771574.\n",
      "Epoch: 79, accuracy: 0.8109103908000275.\n",
      "Epoch: 79, accuracy: 0.8078012136587481.\n"
     ]
    },
    {
     "name": "stderr",
     "output_type": "stream",
     "text": [
      "100%|██████████| 1335/1335 [02:56<00:00,  7.58it/s]\n",
      "  0%|          | 0/1335 [00:00<?, ?it/s]"
     ]
    },
    {
     "name": "stdout",
     "output_type": "stream",
     "text": [
      "Epoch: 80, loss: 2.513904295610578.\n",
      "Epoch: 80, accuracy: 0.8081804048449713.\n",
      "Epoch: 80, accuracy: 0.804666857371323.\n"
     ]
    },
    {
     "name": "stderr",
     "output_type": "stream",
     "text": [
      "100%|██████████| 1335/1335 [02:55<00:00,  7.62it/s]\n",
      "  0%|          | 1/1335 [00:00<03:43,  5.97it/s]"
     ]
    },
    {
     "name": "stdout",
     "output_type": "stream",
     "text": [
      "Epoch: 81, loss: 2.5103763482097383.\n",
      "Epoch: 81, accuracy: 0.8116994702683289.\n",
      "Epoch: 81, accuracy: 0.8101075001636072.\n"
     ]
    },
    {
     "name": "stderr",
     "output_type": "stream",
     "text": [
      "100%|██████████| 1335/1335 [02:58<00:00,  7.48it/s]\n",
      "  0%|          | 1/1335 [00:00<03:31,  6.30it/s]"
     ]
    },
    {
     "name": "stdout",
     "output_type": "stream",
     "text": [
      "Epoch: 82, loss: 2.512120934818568.\n",
      "Epoch: 82, accuracy: 0.8099526303806884.\n",
      "Epoch: 82, accuracy: 0.8101661047781487.\n"
     ]
    },
    {
     "name": "stderr",
     "output_type": "stream",
     "text": [
      "100%|██████████| 1335/1335 [02:57<00:00,  7.52it/s]\n",
      "  0%|          | 1/1335 [00:00<03:16,  6.77it/s]"
     ]
    },
    {
     "name": "stdout",
     "output_type": "stream",
     "text": [
      "Epoch: 83, loss: 2.5139541842071305.\n",
      "Epoch: 83, accuracy: 0.808125304627777.\n",
      "Epoch: 83, accuracy: 0.8060142522332385.\n"
     ]
    },
    {
     "name": "stderr",
     "output_type": "stream",
     "text": [
      "100%|██████████| 1335/1335 [02:56<00:00,  7.57it/s]\n",
      "  0%|          | 1/1335 [00:00<03:32,  6.27it/s]"
     ]
    },
    {
     "name": "stdout",
     "output_type": "stream",
     "text": [
      "Epoch: 84, loss: 2.5124382485164687.\n",
      "Epoch: 84, accuracy: 0.8096254093769775.\n",
      "Epoch: 84, accuracy: 0.810208093035241.\n"
     ]
    },
    {
     "name": "stderr",
     "output_type": "stream",
     "text": [
      "100%|██████████| 1335/1335 [02:56<00:00,  7.57it/s]\n",
      "  0%|          | 0/1335 [00:00<?, ?it/s]"
     ]
    },
    {
     "name": "stdout",
     "output_type": "stream",
     "text": [
      "Epoch: 85, loss: 2.510324817293146.\n",
      "Epoch: 85, accuracy: 0.8117574965154857.\n",
      "Epoch: 85, accuracy: 0.8103251744461895.\n"
     ]
    },
    {
     "name": "stderr",
     "output_type": "stream",
     "text": [
      "100%|██████████| 1335/1335 [02:57<00:00,  7.53it/s]\n",
      "  0%|          | 1/1335 [00:00<03:27,  6.42it/s]"
     ]
    },
    {
     "name": "stdout",
     "output_type": "stream",
     "text": [
      "Epoch: 86, loss: 2.5134230238668036.\n",
      "Epoch: 86, accuracy: 0.8086363310844322.\n",
      "Epoch: 86, accuracy: 0.8020191047208861.\n"
     ]
    },
    {
     "name": "stderr",
     "output_type": "stream",
     "text": [
      "100%|██████████| 1335/1335 [02:58<00:00,  7.50it/s]\n",
      "  0%|          | 1/1335 [00:00<03:33,  6.25it/s]"
     ]
    },
    {
     "name": "stdout",
     "output_type": "stream",
     "text": [
      "Epoch: 87, loss: 2.5109291553497313.\n",
      "Epoch: 87, accuracy: 0.8111703131145999.\n",
      "Epoch: 87, accuracy: 0.8065358780390038.\n"
     ]
    },
    {
     "name": "stderr",
     "output_type": "stream",
     "text": [
      "100%|██████████| 1335/1335 [02:56<00:00,  7.54it/s]\n",
      "  0%|          | 1/1335 [00:00<03:49,  5.81it/s]"
     ]
    },
    {
     "name": "stdout",
     "output_type": "stream",
     "text": [
      "Epoch: 88, loss: 2.5118585275800043.\n",
      "Epoch: 88, accuracy: 0.810222319489337.\n",
      "Epoch: 88, accuracy: 0.8081426798043257.\n"
     ]
    },
    {
     "name": "stderr",
     "output_type": "stream",
     "text": [
      "100%|██████████| 1335/1335 [02:55<00:00,  7.59it/s]\n",
      "  0%|          | 1/1335 [00:00<03:30,  6.35it/s]"
     ]
    },
    {
     "name": "stdout",
     "output_type": "stream",
     "text": [
      "Epoch: 89, loss: 2.5108305598912612.\n",
      "Epoch: 89, accuracy: 0.8112312253091171.\n",
      "Epoch: 89, accuracy: 0.8015302642665488.\n"
     ]
    },
    {
     "name": "stderr",
     "output_type": "stream",
     "text": [
      "100%|██████████| 1335/1335 [02:59<00:00,  7.44it/s]\n",
      "  0%|          | 0/1335 [00:00<?, ?it/s]"
     ]
    },
    {
     "name": "stdout",
     "output_type": "stream",
     "text": [
      "Epoch: 90, loss: 2.512678795360894.\n",
      "Epoch: 90, accuracy: 0.809408883159749.\n",
      "Epoch: 90, accuracy: 0.8102151230326233.\n"
     ]
    },
    {
     "name": "stderr",
     "output_type": "stream",
     "text": [
      "100%|██████████| 1335/1335 [02:58<00:00,  7.49it/s]\n",
      "  0%|          | 1/1335 [00:00<03:18,  6.71it/s]"
     ]
    },
    {
     "name": "stdout",
     "output_type": "stream",
     "text": [
      "Epoch: 91, loss: 2.5114179914810237.\n",
      "Epoch: 91, accuracy: 0.8106719794819831.\n",
      "Epoch: 91, accuracy: 0.8064586758859331.\n"
     ]
    },
    {
     "name": "stderr",
     "output_type": "stream",
     "text": [
      "100%|██████████| 1335/1335 [02:58<00:00,  7.48it/s]\n",
      "  0%|          | 1/1335 [00:00<03:23,  6.56it/s]"
     ]
    },
    {
     "name": "stdout",
     "output_type": "stream",
     "text": [
      "Epoch: 92, loss: 2.510053338540181.\n",
      "Epoch: 92, accuracy: 0.8120296573846049.\n",
      "Epoch: 92, accuracy: 0.8088912467074048.\n"
     ]
    },
    {
     "name": "stderr",
     "output_type": "stream",
     "text": [
      "100%|██████████| 1335/1335 [02:56<00:00,  7.55it/s]\n",
      "  0%|          | 1/1335 [00:00<03:30,  6.34it/s]"
     ]
    },
    {
     "name": "stdout",
     "output_type": "stream",
     "text": [
      "Epoch: 93, loss: 2.5101743646328813.\n",
      "Epoch: 93, accuracy: 0.8119213942759906.\n",
      "Epoch: 93, accuracy: 0.8062690576838126.\n"
     ]
    },
    {
     "name": "stderr",
     "output_type": "stream",
     "text": [
      "100%|██████████| 1335/1335 [02:58<00:00,  7.46it/s]\n",
      "  0%|          | 1/1335 [00:00<03:25,  6.49it/s]"
     ]
    },
    {
     "name": "stdout",
     "output_type": "stream",
     "text": [
      "Epoch: 94, loss: 2.5093856143594233.\n",
      "Epoch: 94, accuracy: 0.8126918887777265.\n",
      "Epoch: 94, accuracy: 0.8130477646142141.\n"
     ]
    },
    {
     "name": "stderr",
     "output_type": "stream",
     "text": [
      "100%|██████████| 1335/1335 [02:59<00:00,  7.45it/s]\n",
      "  0%|          | 0/1335 [00:00<?, ?it/s]"
     ]
    },
    {
     "name": "stdout",
     "output_type": "stream",
     "text": [
      "Epoch: 95, loss: 2.5087983458229663.\n",
      "Epoch: 95, accuracy: 0.8132760659834453.\n",
      "Epoch: 95, accuracy: 0.8063438952014004.\n"
     ]
    },
    {
     "name": "stderr",
     "output_type": "stream",
     "text": [
      "100%|██████████| 1335/1335 [02:57<00:00,  7.54it/s]\n",
      "  0%|          | 1/1335 [00:00<03:30,  6.35it/s]"
     ]
    },
    {
     "name": "stdout",
     "output_type": "stream",
     "text": [
      "Epoch: 96, loss: 2.5120429185445836.\n",
      "Epoch: 96, accuracy: 0.8100360021933201.\n",
      "Epoch: 96, accuracy: 0.8106153216108767.\n"
     ]
    },
    {
     "name": "stderr",
     "output_type": "stream",
     "text": [
      "100%|██████████| 1335/1335 [02:55<00:00,  7.61it/s]\n",
      "  0%|          | 1/1335 [00:00<03:31,  6.30it/s]"
     ]
    },
    {
     "name": "stdout",
     "output_type": "stream",
     "text": [
      "Epoch: 97, loss: 2.5113219918383196.\n",
      "Epoch: 97, accuracy: 0.8107572485377867.\n",
      "Epoch: 97, accuracy: 0.8100302980105363.\n"
     ]
    },
    {
     "name": "stderr",
     "output_type": "stream",
     "text": [
      "100%|██████████| 1335/1335 [02:58<00:00,  7.47it/s]\n",
      "  0%|          | 1/1335 [00:00<03:40,  6.04it/s]"
     ]
    },
    {
     "name": "stdout",
     "output_type": "stream",
     "text": [
      "Epoch: 98, loss: 2.511268979690495.\n",
      "Epoch: 98, accuracy: 0.8108235585227369.\n",
      "Epoch: 98, accuracy: 0.8014646296546252.\n"
     ]
    },
    {
     "name": "stderr",
     "output_type": "stream",
     "text": [
      "100%|██████████| 1335/1335 [02:58<00:00,  7.48it/s]\n"
     ]
    },
    {
     "name": "stdout",
     "output_type": "stream",
     "text": [
      "Epoch: 99, loss: 2.5124046723940845.\n",
      "Epoch: 99, accuracy: 0.8096590787628478.\n",
      "Epoch: 99, accuracy: 0.80273725090802.\n"
     ]
    }
   ],
   "source": [
    "model = models.resnet50(pretrained=True)\n",
    "model.fc = nn.Sequential(\n",
    "    nn.Linear(2048, 26),\n",
    "    nn.Softmax(dim = 1)\n",
    ")\n",
    "model = model.to('cuda')\n",
    "model = nn.DataParallel(model)\n",
    "transform= Transform()\n",
    "dataset = Myfont_dataset2(data, opts.correct_impression_word_list, ID, char_num = 26, transform=transform)\n",
    "num = len(dataset)\n",
    "criterion = nn.CrossEntropyLoss()\n",
    "train_indices, val_indices = train_test_split(list(range(len(dataset))), test_size=0.2)\n",
    "train_dataset = torch.utils.data.Subset(dataset, train_indices)\n",
    "val_dataset = torch.utils.data.Subset(dataset, val_indices)\n",
    "trainloader = torch.utils.data.DataLoader(train_dataset, batch_size = 256, shuffle = True)\n",
    "valloader = torch.utils.data.DataLoader(val_dataset, batch_size = 256, shuffle = True)\n",
    "criterion = nn.CrossEntropyLoss()\n",
    "optimizer = optim.Adam(model.parameters(), lr = 0.01)\n",
    "save_dir = os.path.join('./models', 'charclass_classifier')\n",
    "if os.path.isdir(save_dir) == False:\n",
    "    os.makedirs(save_dir)\n",
    "for epoch in range(100):\n",
    "    running_loss = []\n",
    "    running_acc = []\n",
    "    val_acc = []\n",
    "    model.train()\n",
    "    for idx, train_data in tqdm.tqdm(enumerate(trainloader), total = len(trainloader)):\n",
    "        image, charclass = train_data['img_target'].expand(-1,3,-1,-1), train_data['charclass_target']\n",
    "        image, charclass = image.to(device), charclass.to(device)\n",
    "        optimizer.zero_grad()\n",
    "        pred = model(image)\n",
    "        _, pred_=torch.max(pred, 1)\n",
    "        acc = (pred_ == charclass).sum().item()/len(charclass)\n",
    "        loss = criterion(pred, charclass)\n",
    "        running_loss.append(loss.item())\n",
    "        running_acc.append(acc)\n",
    "        loss.backward()  # 誤差逆伝播\n",
    "        optimizer.step() # パラメータ更新\n",
    "    model.eval()\n",
    "    for i, val_data in enumerate(valloader):\n",
    "        xx, yy = val_data['img_target'].expand(-1,3,-1,-1), val_data['charclass_target']\n",
    "        xx, yy = xx.to(device), yy.to(device)\n",
    "        pred = model(xx)\n",
    "        _, pred_=torch.max(pred, 1)\n",
    "        acc = (pred_ == yy).sum().item()/len(yy)\n",
    "        val_acc.append(acc)\n",
    "    total_batch_loss = np.asarray(running_loss).mean()\n",
    "    total_batch_acc = np.asarray(running_acc).mean()\n",
    "    total_val_acc = np.asarray(val_acc).mean()\n",
    "    print(f\"Epoch: {epoch}, loss: {total_batch_loss}.\")\n",
    "    print(f\"Epoch: {epoch}, accuracy: {total_batch_acc}.\")\n",
    "    print(f\"Epoch: {epoch}, accuracy: {total_val_acc}.\")\n",
    "    if epoch%5==0:\n",
    "        model_path = f'charclassifer_model_{epoch}.pth'\n",
    "        torch.save(model.state_dict(), os.path.join('./models', 'charclass_classifier', model_path))"
   ]
  },
  {
   "cell_type": "code",
   "execution_count": 5,
   "id": "d88fb6be",
   "metadata": {},
   "outputs": [],
   "source": [
    "model = models.resnet50(pretrained=True)\n",
    "model.fc = nn.Sequential(\n",
    "    nn.Linear(2048, 26),\n",
    "    nn.Softmax(dim = 1)\n",
    ")\n",
    "model = model.to('cuda')\n",
    "model = nn.DataParallel(model)\n",
    "trained_model_path = 'models/charclass_classifier/charclassifer_model_95.pth'\n",
    "trained_model = model.load_state_dict(torch.load(trained_model_path))"
   ]
  },
  {
   "cell_type": "code",
   "execution_count": 20,
   "id": "21ee6f04",
   "metadata": {},
   "outputs": [
    {
     "name": "stdout",
     "output_type": "stream",
     "text": [
      "deepsets:False::::sum_weight:True\n"
     ]
    },
    {
     "data": {
      "text/plain": [
       "DataParallel(\n",
       "  (module): ACGenerator(\n",
       "    (w2v_layer): ImpEmbedding(\n",
       "      (embed): Embedding(1574, 300)\n",
       "      (fc): Sequential(\n",
       "        (0): Linear(in_features=1574, out_features=1, bias=True)\n",
       "        (1): LeakyReLU(negative_slope=0.2, inplace=True)\n",
       "      )\n",
       "      (res_block): Sequential()\n",
       "    )\n",
       "    (layer1): Sequential(\n",
       "      (0): Linear(in_features=326, out_features=1500, bias=True)\n",
       "      (1): BatchNorm1d(1500, eps=1e-05, momentum=0.1, affine=True, track_running_stats=True)\n",
       "      (2): LeakyReLU(negative_slope=0.2, inplace=True)\n",
       "    )\n",
       "    (layer2): Sequential(\n",
       "      (0): Linear(in_features=300, out_features=1500, bias=True)\n",
       "      (1): BatchNorm1d(1500, eps=1e-05, momentum=0.1, affine=True, track_running_stats=True)\n",
       "      (2): LeakyReLU(negative_slope=0.2, inplace=True)\n",
       "    )\n",
       "    (layer3): Sequential(\n",
       "      (0): Linear(in_features=3000, out_features=32768, bias=True)\n",
       "      (1): BatchNorm1d(32768, eps=1e-05, momentum=0.1, affine=True, track_running_stats=True)\n",
       "      (2): Dropout(p=0.5, inplace=False)\n",
       "      (3): LeakyReLU(negative_slope=0.2, inplace=True)\n",
       "    )\n",
       "    (layer4): Sequential(\n",
       "      (0): ConvTranspose2d(128, 64, kernel_size=(4, 4), stride=(2, 2), padding=(1, 1))\n",
       "      (1): BatchNorm2d(64, eps=1e-05, momentum=0.1, affine=True, track_running_stats=True)\n",
       "      (2): LeakyReLU(negative_slope=0.2, inplace=True)\n",
       "    )\n",
       "    (layer5): Sequential(\n",
       "      (0): ConvTranspose2d(64, 1, kernel_size=(4, 4), stride=(2, 2), padding=(1, 1))\n",
       "      (1): Tanh()\n",
       "    )\n",
       "  )\n",
       ")"
      ]
     },
     "execution_count": 20,
     "metadata": {},
     "output_type": "execute_result"
    }
   ],
   "source": [
    "from models.DCmodel import ACGenerator, CGenerator\n",
    "Imp2Font_path = '/home/matsuda/デスクトップ/Imp2Font/experiment/Imp2Font/model_35r'\n",
    "G_model = ACGenerator(weights, mask, z_dim=300, char_num=26, mode = 'CP', emb = 'w2v').to('cuda')\n",
    "G_model = nn.DataParallel(G_model)\n",
    "G_model.load_state_dict(torch.load(Imp2Font_path)[\"G_model_state_dict\"], strict=False)\n",
    "G_model.eval()"
   ]
  },
  {
   "cell_type": "code",
   "execution_count": 8,
   "id": "a71c0e0c",
   "metadata": {
    "tags": []
   },
   "outputs": [
    {
     "name": "stderr",
     "output_type": "stream",
     "text": [
      "  0%|          | 0/1574 [00:00<?, ?it/s]<ipython-input-8-dc5b68ec4fb6>:13: UserWarning: To copy construct from a tensor, it is recommended to use sourceTensor.clone().detach() or sourceTensor.clone().detach().requires_grad_(True), rather than torch.tensor(sourceTensor).\n",
      "  label = torch.tensor(label).repeat(char_num * generate_num, 1).to(device)\n",
      "  1%|          | 8/1574 [00:06<20:15,  1.29it/s]\n"
     ]
    },
    {
     "ename": "KeyboardInterrupt",
     "evalue": "",
     "output_type": "error",
     "traceback": [
      "\u001b[0;31m---------------------------------------------------------------------------\u001b[0m",
      "\u001b[0;31mKeyboardInterrupt\u001b[0m                         Traceback (most recent call last)",
      "\u001b[0;32m<ipython-input-8-dc5b68ec4fb6>\u001b[0m in \u001b[0;36m<module>\u001b[0;34m\u001b[0m\n\u001b[1;32m      8\u001b[0m \u001b[0;32mimport\u001b[0m \u001b[0mgc\u001b[0m\u001b[0;34m\u001b[0m\u001b[0;34m\u001b[0m\u001b[0m\n\u001b[1;32m      9\u001b[0m \u001b[0;32mfor\u001b[0m \u001b[0mword\u001b[0m \u001b[0;32min\u001b[0m \u001b[0mtqdm\u001b[0m\u001b[0;34m.\u001b[0m\u001b[0mtqdm\u001b[0m\u001b[0;34m(\u001b[0m\u001b[0mword_list\u001b[0m\u001b[0;34m,\u001b[0m \u001b[0mtotal\u001b[0m \u001b[0;34m=\u001b[0m \u001b[0mlen\u001b[0m\u001b[0;34m(\u001b[0m\u001b[0mword_list\u001b[0m\u001b[0;34m)\u001b[0m\u001b[0;34m)\u001b[0m\u001b[0;34m:\u001b[0m\u001b[0;34m\u001b[0m\u001b[0;34m\u001b[0m\u001b[0m\n\u001b[0;32m---> 10\u001b[0;31m     \u001b[0mgc\u001b[0m\u001b[0;34m.\u001b[0m\u001b[0mcollect\u001b[0m\u001b[0;34m(\u001b[0m\u001b[0;34m)\u001b[0m\u001b[0;34m\u001b[0m\u001b[0;34m\u001b[0m\u001b[0m\n\u001b[0m\u001b[1;32m     11\u001b[0m     \u001b[0mlabel\u001b[0m \u001b[0;34m=\u001b[0m \u001b[0;34m[\u001b[0m\u001b[0;34m[\u001b[0m\u001b[0mID\u001b[0m\u001b[0;34m[\u001b[0m\u001b[0mtoken\u001b[0m\u001b[0;34m]\u001b[0m \u001b[0;32mfor\u001b[0m \u001b[0mtoken\u001b[0m \u001b[0;32min\u001b[0m \u001b[0mword\u001b[0m\u001b[0;34m]\u001b[0m\u001b[0;34m]\u001b[0m\u001b[0;34m\u001b[0m\u001b[0;34m\u001b[0m\u001b[0m\n\u001b[1;32m     12\u001b[0m     \u001b[0mlabel\u001b[0m \u001b[0;34m=\u001b[0m \u001b[0mMultilabel_OneHot\u001b[0m\u001b[0;34m(\u001b[0m\u001b[0mlabel\u001b[0m\u001b[0;34m,\u001b[0m \u001b[0mlen\u001b[0m\u001b[0;34m(\u001b[0m\u001b[0mID\u001b[0m\u001b[0;34m)\u001b[0m\u001b[0;34m,\u001b[0m \u001b[0mnormalize\u001b[0m \u001b[0;34m=\u001b[0m \u001b[0;32mTrue\u001b[0m\u001b[0;34m)\u001b[0m\u001b[0;34m\u001b[0m\u001b[0;34m\u001b[0m\u001b[0m\n",
      "\u001b[0;31mKeyboardInterrupt\u001b[0m: "
     ]
    }
   ],
   "source": [
    "generate_num = 30\n",
    "char_num = 26\n",
    "char_class = torch.eye(26).repeat(generate_num, 1)\n",
    "noise = torch.normal(mean = 0.5, std = 0.2, size = (generate_num, 300))\n",
    "noise = tile(noise, 0, char_num).to(device)\n",
    "word_list = list(split_list(list(ID.keys()), 1))\n",
    "result = {}\n",
    "import gc \n",
    "for word in tqdm.tqdm(word_list, total = len(word_list)):\n",
    "    gc.collect()\n",
    "    label = [[ID[token] for token in word]]\n",
    "    label = Multilabel_OneHot(label, len(ID), normalize = True)\n",
    "    label = torch.tensor(label).repeat(char_num * generate_num, 1).to(device)\n",
    "    with torch.no_grad():\n",
    "        samples = G_model(noise, label, char_class)\n",
    "        samples = samples.data.cpu()\n",
    "        samples = (samples/2)+0.5  \n",
    "#     row = generate_num\n",
    "#     col = char_num\n",
    "#     plt.figure(figsize=(char_num * 1 , generate_num*1))\n",
    "#     num = 0\n",
    "# #     print(word)\n",
    "# #     while num < row * col:\n",
    "# #         num += 1\n",
    "# #         plt.subplot(row, col, num)\n",
    "# #         plt.imshow(np.squeeze(samples[num-1]), cmap = \"gray\")\n",
    "# #         plt.axis('off')\n",
    "# #     plt.show()\n",
    "    test_X = samples\n",
    "    test_y = torch.argmax(char_class, dim=1)\n",
    "    xx, yy = test_X.expand(-1,3,-1,-1), test_y\n",
    "    xx, yy = xx.to(device), yy.to(device)\n",
    "    pred = model(xx)\n",
    "    _, pred_=torch.max(pred, 1)\n",
    "    acc = (pred_ == yy).sum().item()/len(yy)\n",
    "    token =\" \".join(word)\n",
    "    result[token] = acc\n",
    "#    print(f'{token}:{acc}')\n",
    "print(result)"
   ]
  },
  {
   "cell_type": "code",
   "execution_count": 6,
   "id": "201a1638",
   "metadata": {},
   "outputs": [
    {
     "ename": "NameError",
     "evalue": "name 'result' is not defined",
     "output_type": "error",
     "traceback": [
      "\u001b[0;31m---------------------------------------------------------------------------\u001b[0m",
      "\u001b[0;31mNameError\u001b[0m                                 Traceback (most recent call last)",
      "\u001b[0;32m<ipython-input-6-c1dcc2536f15>\u001b[0m in \u001b[0;36m<module>\u001b[0;34m\u001b[0m\n\u001b[1;32m      1\u001b[0m \u001b[0;32mimport\u001b[0m \u001b[0mpandas\u001b[0m \u001b[0;32mas\u001b[0m \u001b[0mpd\u001b[0m\u001b[0;34m\u001b[0m\u001b[0;34m\u001b[0m\u001b[0m\n\u001b[0;32m----> 2\u001b[0;31m \u001b[0mdf\u001b[0m \u001b[0;34m=\u001b[0m \u001b[0mpd\u001b[0m\u001b[0;34m.\u001b[0m\u001b[0mio\u001b[0m\u001b[0;34m.\u001b[0m\u001b[0mjson\u001b[0m\u001b[0;34m.\u001b[0m\u001b[0mjson_normalize\u001b[0m\u001b[0;34m(\u001b[0m\u001b[0mresult\u001b[0m\u001b[0;34m)\u001b[0m\u001b[0;34m\u001b[0m\u001b[0;34m\u001b[0m\u001b[0m\n\u001b[0m",
      "\u001b[0;31mNameError\u001b[0m: name 'result' is not defined"
     ]
    }
   ],
   "source": [
    "import pandas as pd\n",
    "df = pd.io.json.json_normalize(result)"
   ]
  },
  {
   "cell_type": "code",
   "execution_count": 24,
   "id": "b868deb2",
   "metadata": {},
   "outputs": [
    {
     "ename": "NameError",
     "evalue": "name 'df' is not defined",
     "output_type": "error",
     "traceback": [
      "\u001b[0;31m---------------------------------------------------------------------------\u001b[0m",
      "\u001b[0;31mNameError\u001b[0m                                 Traceback (most recent call last)",
      "\u001b[0;32m<ipython-input-24-e6cefd123062>\u001b[0m in \u001b[0;36m<module>\u001b[0;34m\u001b[0m\n\u001b[1;32m      1\u001b[0m \u001b[0msave_dir\u001b[0m \u001b[0;34m=\u001b[0m \u001b[0mos\u001b[0m\u001b[0;34m.\u001b[0m\u001b[0mpath\u001b[0m\u001b[0;34m.\u001b[0m\u001b[0mjoin\u001b[0m\u001b[0;34m(\u001b[0m\u001b[0;34m'./models'\u001b[0m\u001b[0;34m,\u001b[0m \u001b[0;34m'charclass_classifier'\u001b[0m\u001b[0;34m)\u001b[0m\u001b[0;34m\u001b[0m\u001b[0;34m\u001b[0m\u001b[0m\n\u001b[0;32m----> 2\u001b[0;31m \u001b[0mdf\u001b[0m \u001b[0;34m=\u001b[0m\u001b[0mdf\u001b[0m\u001b[0;34m.\u001b[0m\u001b[0mT\u001b[0m\u001b[0;34m\u001b[0m\u001b[0;34m\u001b[0m\u001b[0m\n\u001b[0m\u001b[1;32m      3\u001b[0m \u001b[0mdf\u001b[0m\u001b[0;34m.\u001b[0m\u001b[0mto_csv\u001b[0m\u001b[0;34m(\u001b[0m\u001b[0mos\u001b[0m\u001b[0;34m.\u001b[0m\u001b[0mpath\u001b[0m\u001b[0;34m.\u001b[0m\u001b[0mjoin\u001b[0m\u001b[0;34m(\u001b[0m\u001b[0msave_dir\u001b[0m\u001b[0;34m,\u001b[0m \u001b[0;34m'result.csv'\u001b[0m\u001b[0;34m)\u001b[0m\u001b[0;34m)\u001b[0m\u001b[0;34m\u001b[0m\u001b[0;34m\u001b[0m\u001b[0m\n",
      "\u001b[0;31mNameError\u001b[0m: name 'df' is not defined"
     ]
    }
   ],
   "source": [
    "save_dir = os.path.join('./models', 'charclass_classifier')\n",
    "df =df.T\n",
    "df.to_csv(os.path.join(save_dir, 'result.csv'))"
   ]
  },
  {
   "cell_type": "code",
   "execution_count": 6,
   "id": "758e22bd",
   "metadata": {},
   "outputs": [],
   "source": [
    "save_dir = os.path.join('./models', 'charclass_classifier')\n",
    "df  = pd.read_csv(os.path.join(save_dir, 'result.csv')).rename(columns = {'Unnamed: 0':'word','0':'Accuracy'}).set_index('word')"
   ]
  },
  {
   "cell_type": "code",
   "execution_count": 7,
   "id": "ef9af517",
   "metadata": {},
   "outputs": [
    {
     "data": {
      "text/html": [
       "<div>\n",
       "<style scoped>\n",
       "    .dataframe tbody tr th:only-of-type {\n",
       "        vertical-align: middle;\n",
       "    }\n",
       "\n",
       "    .dataframe tbody tr th {\n",
       "        vertical-align: top;\n",
       "    }\n",
       "\n",
       "    .dataframe thead th {\n",
       "        text-align: right;\n",
       "    }\n",
       "</style>\n",
       "<table border=\"1\" class=\"dataframe\">\n",
       "  <thead>\n",
       "    <tr style=\"text-align: right;\">\n",
       "      <th></th>\n",
       "      <th>Accuracy</th>\n",
       "    </tr>\n",
       "    <tr>\n",
       "      <th>word</th>\n",
       "      <th></th>\n",
       "    </tr>\n",
       "  </thead>\n",
       "  <tbody>\n",
       "    <tr>\n",
       "      <th>on</th>\n",
       "      <td>0.774359</td>\n",
       "    </tr>\n",
       "    <tr>\n",
       "      <th>the</th>\n",
       "      <td>0.344872</td>\n",
       "    </tr>\n",
       "    <tr>\n",
       "      <th>year</th>\n",
       "      <td>0.342308</td>\n",
       "    </tr>\n",
       "    <tr>\n",
       "      <th>up</th>\n",
       "      <td>0.307692</td>\n",
       "    </tr>\n",
       "    <tr>\n",
       "      <th>out</th>\n",
       "      <td>0.820513</td>\n",
       "    </tr>\n",
       "    <tr>\n",
       "      <th>...</th>\n",
       "      <td>...</td>\n",
       "    </tr>\n",
       "    <tr>\n",
       "      <th>magazin</th>\n",
       "      <td>0.820513</td>\n",
       "    </tr>\n",
       "    <tr>\n",
       "      <th>avenir</th>\n",
       "      <td>0.508974</td>\n",
       "    </tr>\n",
       "    <tr>\n",
       "      <th>ocr</th>\n",
       "      <td>0.300000</td>\n",
       "    </tr>\n",
       "    <tr>\n",
       "      <th>tipos</th>\n",
       "      <td>0.806410</td>\n",
       "    </tr>\n",
       "    <tr>\n",
       "      <th>monospaced</th>\n",
       "      <td>0.805128</td>\n",
       "    </tr>\n",
       "  </tbody>\n",
       "</table>\n",
       "<p>1574 rows × 1 columns</p>\n",
       "</div>"
      ],
      "text/plain": [
       "            Accuracy\n",
       "word                \n",
       "on          0.774359\n",
       "the         0.344872\n",
       "year        0.342308\n",
       "up          0.307692\n",
       "out         0.820513\n",
       "...              ...\n",
       "magazin     0.820513\n",
       "avenir      0.508974\n",
       "ocr         0.300000\n",
       "tipos       0.806410\n",
       "monospaced  0.805128\n",
       "\n",
       "[1574 rows x 1 columns]"
      ]
     },
     "execution_count": 7,
     "metadata": {},
     "output_type": "execute_result"
    }
   ],
   "source": [
    "df"
   ]
  },
  {
   "cell_type": "code",
   "execution_count": 8,
   "id": "357d5d87",
   "metadata": {},
   "outputs": [
    {
     "data": {
      "text/plain": [
       "0.5346145700974162"
      ]
     },
     "execution_count": 8,
     "metadata": {},
     "output_type": "execute_result"
    }
   ],
   "source": [
    "df['Accuracy'].mean()"
   ]
  },
  {
   "cell_type": "code",
   "execution_count": 9,
   "id": "11f47626",
   "metadata": {},
   "outputs": [
    {
     "data": {
      "text/html": [
       "<div>\n",
       "<style scoped>\n",
       "    .dataframe tbody tr th:only-of-type {\n",
       "        vertical-align: middle;\n",
       "    }\n",
       "\n",
       "    .dataframe tbody tr th {\n",
       "        vertical-align: top;\n",
       "    }\n",
       "\n",
       "    .dataframe thead th {\n",
       "        text-align: right;\n",
       "    }\n",
       "</style>\n",
       "<table border=\"1\" class=\"dataframe\">\n",
       "  <thead>\n",
       "    <tr style=\"text-align: right;\">\n",
       "      <th></th>\n",
       "      <th>Accuracy</th>\n",
       "    </tr>\n",
       "    <tr>\n",
       "      <th>word</th>\n",
       "      <th></th>\n",
       "    </tr>\n",
       "  </thead>\n",
       "  <tbody>\n",
       "    <tr>\n",
       "      <th>large</th>\n",
       "      <td>0.832051</td>\n",
       "    </tr>\n",
       "    <tr>\n",
       "      <th>erode</th>\n",
       "      <td>0.830769</td>\n",
       "    </tr>\n",
       "    <tr>\n",
       "      <th>seal</th>\n",
       "      <td>0.830769</td>\n",
       "    </tr>\n",
       "    <tr>\n",
       "      <th>app</th>\n",
       "      <td>0.830769</td>\n",
       "    </tr>\n",
       "    <tr>\n",
       "      <th>feature</th>\n",
       "      <td>0.830769</td>\n",
       "    </tr>\n",
       "    <tr>\n",
       "      <th>...</th>\n",
       "      <td>...</td>\n",
       "    </tr>\n",
       "    <tr>\n",
       "      <th>ages</th>\n",
       "      <td>0.041026</td>\n",
       "    </tr>\n",
       "    <tr>\n",
       "      <th>secession</th>\n",
       "      <td>0.037179</td>\n",
       "    </tr>\n",
       "    <tr>\n",
       "      <th>futurism</th>\n",
       "      <td>0.037179</td>\n",
       "    </tr>\n",
       "    <tr>\n",
       "      <th>mom</th>\n",
       "      <td>0.034615</td>\n",
       "    </tr>\n",
       "    <tr>\n",
       "      <th>native</th>\n",
       "      <td>0.033333</td>\n",
       "    </tr>\n",
       "  </tbody>\n",
       "</table>\n",
       "<p>1574 rows × 1 columns</p>\n",
       "</div>"
      ],
      "text/plain": [
       "           Accuracy\n",
       "word               \n",
       "large      0.832051\n",
       "erode      0.830769\n",
       "seal       0.830769\n",
       "app        0.830769\n",
       "feature    0.830769\n",
       "...             ...\n",
       "ages       0.041026\n",
       "secession  0.037179\n",
       "futurism   0.037179\n",
       "mom        0.034615\n",
       "native     0.033333\n",
       "\n",
       "[1574 rows x 1 columns]"
      ]
     },
     "execution_count": 9,
     "metadata": {},
     "output_type": "execute_result"
    }
   ],
   "source": [
    "df.sort_values('Accuracy',ascending=False)"
   ]
  },
  {
   "cell_type": "code",
   "execution_count": 10,
   "id": "07186048",
   "metadata": {},
   "outputs": [
    {
     "name": "stderr",
     "output_type": "stream",
     "text": [
      "100%|██████████| 17202/17202 [00:03<00:00, 4676.33it/s]\n"
     ]
    }
   ],
   "source": [
    "transform= Transform()\n",
    "dataset = Myfont_dataset2(data, opts.correct_impression_word_list, ID, char_num = 26, transform=transform)\n",
    "df['value_counts'] = dataset.weight"
   ]
  },
  {
   "cell_type": "code",
   "execution_count": 11,
   "id": "a26dc3cf",
   "metadata": {},
   "outputs": [],
   "source": [
    "import matplotlib.pyplot as plt\n",
    "import numpy as np\n",
    "%matplotlib inline"
   ]
  },
  {
   "cell_type": "code",
   "execution_count": 12,
   "id": "d4446a7e",
   "metadata": {},
   "outputs": [
    {
     "data": {
      "text/plain": [
       "(0.0, 200.0)"
      ]
     },
     "execution_count": 12,
     "metadata": {},
     "output_type": "execute_result"
    },
    {
     "data": {
      "image/png": "[encoded data removed]",
      "text/plain": [
       "<Figure size 432x288 with 1 Axes>"
      ]
     },
     "metadata": {
      "needs_background": "light"
     },
     "output_type": "display_data"
    }
   ],
   "source": [
    "fig = plt.figure()\n",
    "ax = fig.add_subplot(1,1,1)\n",
    "ax.scatter(df['Accuracy'],df['value_counts'])\n",
    "plt.ylim(0, 200)"
   ]
  },
  {
   "cell_type": "code",
   "execution_count": 13,
   "id": "2be40697",
   "metadata": {},
   "outputs": [],
   "source": [
    "df_corr = df.corr()"
   ]
  },
  {
   "cell_type": "code",
   "execution_count": 14,
   "id": "b1b005b4",
   "metadata": {},
   "outputs": [
    {
     "data": {
      "text/html": [
       "<div>\n",
       "<style scoped>\n",
       "    .dataframe tbody tr th:only-of-type {\n",
       "        vertical-align: middle;\n",
       "    }\n",
       "\n",
       "    .dataframe tbody tr th {\n",
       "        vertical-align: top;\n",
       "    }\n",
       "\n",
       "    .dataframe thead th {\n",
       "        text-align: right;\n",
       "    }\n",
       "</style>\n",
       "<table border=\"1\" class=\"dataframe\">\n",
       "  <thead>\n",
       "    <tr style=\"text-align: right;\">\n",
       "      <th></th>\n",
       "      <th>Accuracy</th>\n",
       "      <th>value_counts</th>\n",
       "    </tr>\n",
       "  </thead>\n",
       "  <tbody>\n",
       "    <tr>\n",
       "      <th>Accuracy</th>\n",
       "      <td>1.000000</td>\n",
       "      <td>0.228331</td>\n",
       "    </tr>\n",
       "    <tr>\n",
       "      <th>value_counts</th>\n",
       "      <td>0.228331</td>\n",
       "      <td>1.000000</td>\n",
       "    </tr>\n",
       "  </tbody>\n",
       "</table>\n",
       "</div>"
      ],
      "text/plain": [
       "              Accuracy  value_counts\n",
       "Accuracy      1.000000      0.228331\n",
       "value_counts  0.228331      1.000000"
      ]
     },
     "execution_count": 14,
     "metadata": {},
     "output_type": "execute_result"
    }
   ],
   "source": [
    "df_corr"
   ]
  },
  {
   "cell_type": "code",
   "execution_count": 15,
   "id": "c048a6b0",
   "metadata": {},
   "outputs": [
    {
     "name": "stderr",
     "output_type": "stream",
     "text": [
      "[nltk_data] Downloading package averaged_perceptron_tagger to\n",
      "[nltk_data]     /home/matsuda/nltk_data...\n",
      "[nltk_data]   Package averaged_perceptron_tagger is already up-to-\n",
      "[nltk_data]       date!\n"
     ]
    },
    {
     "data": {
      "text/plain": [
       "True"
      ]
     },
     "execution_count": 15,
     "metadata": {},
     "output_type": "execute_result"
    }
   ],
   "source": [
    "import nltk\n",
    "nltk.download('averaged_perceptron_tagger')"
   ]
  },
  {
   "cell_type": "code",
   "execution_count": 16,
   "id": "81c0ea61",
   "metadata": {},
   "outputs": [
    {
     "name": "stderr",
     "output_type": "stream",
     "text": [
      "<ipython-input-16-4c32299e51c0>:2: FutureWarning: pandas.io.json.json_normalize is deprecated, use pandas.json_normalize instead\n",
      "  df_nltk = pd.io.json.json_normalize(dict(nltk_token)).T\n"
     ]
    }
   ],
   "source": [
    "nltk_token = nltk.pos_tag(list(ID.keys()))\n",
    "df_nltk = pd.io.json.json_normalize(dict(nltk_token)).T\n",
    "df_nltk = df_nltk.rename(columns = {0:'part of speech'})"
   ]
  },
  {
   "cell_type": "code",
   "execution_count": 17,
   "id": "28d53009",
   "metadata": {},
   "outputs": [],
   "source": [
    "df = df.join(df_nltk)"
   ]
  },
  {
   "cell_type": "code",
   "execution_count": 43,
   "id": "3f507f08",
   "metadata": {},
   "outputs": [],
   "source": [
    "namelist = ['調節接続詩','基数', '限定詞','存在を表すthere','外国語','前置詞または従属接続詞', '形容詞', '形容詞(比較級)', '形容詞(最上級)',\n",
    "       '法', '名詞', '名詞(複数形)', '固有名詞', '固有名詞(複数形)', '前限定辞', '所有格の終わり', '人称代名詞', '所有代名詞'\n",
    "       ,'副詞', '副詞(比較級)', '副詞(最上級)', '不変化詞', '記号','前置詞 to', '感嘆詞', '動詞(原形)', '動詞(過去形)',\n",
    "        '動詞(動名詞または現在分詞)', '動詞(過去分詞)','動詞(三人称単数以外の現在形)','動詞(三人称単数の現在)',\n",
    "        'Wh 限定詞', 'Wh 代名詞', '所有 Wh 代名詞', 'Wh 副詞']\n",
    "taglist = ['CC','CD', 'DT', 'EX', 'FW', 'IN', 'JJ', 'JJR', 'JJS', 'LS', 'MD', 'NN', 'NNS', 'NNP', 'NNPS', 'PDT', 'POS'\n",
    "       'PRP', 'PRP$', 'RB', 'RBR', 'RBS', 'RP', 'SYM', 'TO', 'UH', 'VB','VBD', 'VBG', 'VBN', 'VBP',\n",
    "       'VBZ', 'WDT', 'WP', 'WP$', 'WRB']"
   ]
  },
  {
   "cell_type": "code",
   "execution_count": 44,
   "id": "d9fe0fb7",
   "metadata": {},
   "outputs": [
    {
     "name": "stderr",
     "output_type": "stream",
     "text": [
      "<ipython-input-44-acf0ebdde783>:1: FutureWarning: pandas.io.json.json_normalize is deprecated, use pandas.json_normalize instead\n",
      "  df_name = pd.io.json.json_normalize(dict(zip(taglist, namelist))).T\n"
     ]
    }
   ],
   "source": [
    "df_name = pd.io.json.json_normalize(dict(zip(taglist, namelist))).T"
   ]
  },
  {
   "cell_type": "code",
   "execution_count": 45,
   "id": "1044596e",
   "metadata": {},
   "outputs": [],
   "source": [
    "df_part = df.groupby('part of speech').mean().join(df_name).reset_index().drop(columns = ['part of speech']).set_index(0)"
   ]
  },
  {
   "cell_type": "code",
   "execution_count": 46,
   "id": "fe714082",
   "metadata": {},
   "outputs": [],
   "source": [
    "df_part.to_csv(os.path.join(save_dir, 'result_part_of_speech.csv'))"
   ]
  },
  {
   "cell_type": "code",
   "execution_count": 47,
   "id": "1668d2e2",
   "metadata": {},
   "outputs": [
    {
     "data": {
      "text/html": [
       "<div>\n",
       "<style scoped>\n",
       "    .dataframe tbody tr th:only-of-type {\n",
       "        vertical-align: middle;\n",
       "    }\n",
       "\n",
       "    .dataframe tbody tr th {\n",
       "        vertical-align: top;\n",
       "    }\n",
       "\n",
       "    .dataframe thead th {\n",
       "        text-align: right;\n",
       "    }\n",
       "</style>\n",
       "<table border=\"1\" class=\"dataframe\">\n",
       "  <thead>\n",
       "    <tr style=\"text-align: right;\">\n",
       "      <th></th>\n",
       "      <th>Accuracy</th>\n",
       "      <th>value_counts</th>\n",
       "      <th>part of speech</th>\n",
       "    </tr>\n",
       "    <tr>\n",
       "      <th>word</th>\n",
       "      <th></th>\n",
       "      <th></th>\n",
       "      <th></th>\n",
       "    </tr>\n",
       "  </thead>\n",
       "  <tbody>\n",
       "    <tr>\n",
       "      <th>large</th>\n",
       "      <td>0.832051</td>\n",
       "      <td>159</td>\n",
       "      <td>JJ</td>\n",
       "    </tr>\n",
       "    <tr>\n",
       "      <th>erode</th>\n",
       "      <td>0.830769</td>\n",
       "      <td>155</td>\n",
       "      <td>NN</td>\n",
       "    </tr>\n",
       "    <tr>\n",
       "      <th>seal</th>\n",
       "      <td>0.830769</td>\n",
       "      <td>5</td>\n",
       "      <td>JJ</td>\n",
       "    </tr>\n",
       "    <tr>\n",
       "      <th>app</th>\n",
       "      <td>0.830769</td>\n",
       "      <td>97</td>\n",
       "      <td>JJ</td>\n",
       "    </tr>\n",
       "    <tr>\n",
       "      <th>feature</th>\n",
       "      <td>0.830769</td>\n",
       "      <td>30</td>\n",
       "      <td>NN</td>\n",
       "    </tr>\n",
       "    <tr>\n",
       "      <th>...</th>\n",
       "      <td>...</td>\n",
       "      <td>...</td>\n",
       "      <td>...</td>\n",
       "    </tr>\n",
       "    <tr>\n",
       "      <th>ages</th>\n",
       "      <td>0.041026</td>\n",
       "      <td>24</td>\n",
       "      <td>NNS</td>\n",
       "    </tr>\n",
       "    <tr>\n",
       "      <th>secession</th>\n",
       "      <td>0.037179</td>\n",
       "      <td>11</td>\n",
       "      <td>NN</td>\n",
       "    </tr>\n",
       "    <tr>\n",
       "      <th>futurism</th>\n",
       "      <td>0.037179</td>\n",
       "      <td>15</td>\n",
       "      <td>NN</td>\n",
       "    </tr>\n",
       "    <tr>\n",
       "      <th>mom</th>\n",
       "      <td>0.034615</td>\n",
       "      <td>11</td>\n",
       "      <td>NN</td>\n",
       "    </tr>\n",
       "    <tr>\n",
       "      <th>native</th>\n",
       "      <td>0.033333</td>\n",
       "      <td>18</td>\n",
       "      <td>JJ</td>\n",
       "    </tr>\n",
       "  </tbody>\n",
       "</table>\n",
       "<p>1574 rows × 3 columns</p>\n",
       "</div>"
      ],
      "text/plain": [
       "           Accuracy  value_counts part of speech\n",
       "word                                            \n",
       "large      0.832051           159             JJ\n",
       "erode      0.830769           155             NN\n",
       "seal       0.830769             5             JJ\n",
       "app        0.830769            97             JJ\n",
       "feature    0.830769            30             NN\n",
       "...             ...           ...            ...\n",
       "ages       0.041026            24            NNS\n",
       "secession  0.037179            11             NN\n",
       "futurism   0.037179            15             NN\n",
       "mom        0.034615            11             NN\n",
       "native     0.033333            18             JJ\n",
       "\n",
       "[1574 rows x 3 columns]"
      ]
     },
     "execution_count": 47,
     "metadata": {},
     "output_type": "execute_result"
    }
   ],
   "source": [
    "df.sort_values('Accuracy', ascending = False)"
   ]
  },
  {
   "cell_type": "code",
   "execution_count": 1,
   "id": "ced26d49",
   "metadata": {},
   "outputs": [
    {
     "ename": "NameError",
     "evalue": "name 'Transform' is not defined",
     "output_type": "error",
     "traceback": [
      "\u001b[0;31m---------------------------------------------------------------------------\u001b[0m",
      "\u001b[0;31mNameError\u001b[0m                                 Traceback (most recent call last)",
      "\u001b[0;32m<ipython-input-1-057ac45f3145>\u001b[0m in \u001b[0;36m<module>\u001b[0;34m\u001b[0m\n\u001b[0;32m----> 1\u001b[0;31m \u001b[0mtransform\u001b[0m\u001b[0;34m=\u001b[0m \u001b[0mTransform\u001b[0m\u001b[0;34m(\u001b[0m\u001b[0;34m)\u001b[0m\u001b[0;34m\u001b[0m\u001b[0;34m\u001b[0m\u001b[0m\n\u001b[0m\u001b[1;32m      2\u001b[0m \u001b[0mdataset\u001b[0m \u001b[0;34m=\u001b[0m \u001b[0mMyfont_dataset\u001b[0m\u001b[0;34m(\u001b[0m\u001b[0mdata\u001b[0m\u001b[0;34m,\u001b[0m \u001b[0mopts\u001b[0m\u001b[0;34m.\u001b[0m\u001b[0mcorrect_impression_word_list\u001b[0m\u001b[0;34m,\u001b[0m \u001b[0mID\u001b[0m\u001b[0;34m,\u001b[0m \u001b[0mchar_num\u001b[0m \u001b[0;34m=\u001b[0m \u001b[0;36m26\u001b[0m\u001b[0;34m,\u001b[0m \u001b[0mtransform\u001b[0m\u001b[0;34m=\u001b[0m\u001b[0mtransform\u001b[0m\u001b[0;34m)\u001b[0m\u001b[0;34m\u001b[0m\u001b[0;34m\u001b[0m\u001b[0m\n\u001b[1;32m      3\u001b[0m \u001b[0mnum\u001b[0m \u001b[0;34m=\u001b[0m \u001b[0mlen\u001b[0m\u001b[0;34m(\u001b[0m\u001b[0mdataset\u001b[0m\u001b[0;34m)\u001b[0m\u001b[0;34m\u001b[0m\u001b[0;34m\u001b[0m\u001b[0m\n\u001b[1;32m      4\u001b[0m \u001b[0mprint\u001b[0m\u001b[0;34m(\u001b[0m\u001b[0mnum\u001b[0m\u001b[0;34m)\u001b[0m\u001b[0;34m\u001b[0m\u001b[0;34m\u001b[0m\u001b[0m\n\u001b[1;32m      5\u001b[0m \u001b[0mdataloader\u001b[0m \u001b[0;34m=\u001b[0m \u001b[0mtorch\u001b[0m\u001b[0;34m.\u001b[0m\u001b[0mutils\u001b[0m\u001b[0;34m.\u001b[0m\u001b[0mdata\u001b[0m\u001b[0;34m.\u001b[0m\u001b[0mDataLoader\u001b[0m\u001b[0;34m(\u001b[0m\u001b[0mdataset\u001b[0m\u001b[0;34m,\u001b[0m \u001b[0mbatch_size\u001b[0m\u001b[0;34m=\u001b[0m\u001b[0;36m26\u001b[0m\u001b[0;34m,\u001b[0m \u001b[0mshuffle\u001b[0m\u001b[0;34m=\u001b[0m\u001b[0;32mFalse\u001b[0m\u001b[0;34m,\u001b[0m \u001b[0mcollate_fn\u001b[0m \u001b[0;34m=\u001b[0m \u001b[0mcollate_fn\u001b[0m\u001b[0;34m)\u001b[0m\u001b[0;34m\u001b[0m\u001b[0;34m\u001b[0m\u001b[0m\n",
      "\u001b[0;31mNameError\u001b[0m: name 'Transform' is not defined"
     ]
    }
   ],
   "source": [
    "transform= Transform()\n",
    "dataset = Myfont_dataset(data, opts.correct_impression_word_list, ID, char_num = 26, transform=transform)\n",
    "num = len(dataset)\n",
    "print(num)\n",
    "dataloader = torch.utils.data.DataLoader(dataset, batch_size=26, shuffle=False, collate_fn = collate_fn)\n",
    "result = {}\n",
    "import gc \n",
    "tokens = []\n",
    "acc_s = []\n",
    "for data_ in tqdm.tqdm(dataloader, total = len(dataset)):\n",
    "    test_X = data_['img']\n",
    "    test_y = data_['charclass']\n",
    "    label = data_['label']\n",
    "    print(test_y)\n",
    "#     test_y = torch.argmax(test_y, dim=1)\n",
    "    xx, yy = test_X.expand(-1,3,-1,-1), test_y\n",
    "    xx, yy = xx.to(device), yy.to(device)\n",
    "    pred = model(xx)\n",
    "    _, pred_=torch.max(pred, 1)\n",
    "    acc = (pred_ == yy)\n",
    "    tokens.extend(label)\n",
    "    acc_s.append(acc.item())\n",
    "#    print(f'{token}:{acc}')\n",
    "print(result)"
   ]
  },
  {
   "cell_type": "code",
   "execution_count": 16,
   "id": "090dd0d4",
   "metadata": {},
   "outputs": [
    {
     "name": "stderr",
     "output_type": "stream",
     "text": [
      "100%|██████████| 17202/17202 [00:00<00:00, 41439.32it/s]\n"
     ]
    },
    {
     "name": "stdout",
     "output_type": "stream",
     "text": [
      "24.0\n",
      "18\n"
     ]
    },
    {
     "data": {
      "image/png": "[encoded data removed]",
      "text/plain": [
       "<Figure size 216x432 with 18 Axes>"
      ]
     },
     "metadata": {
      "needs_background": "light"
     },
     "output_type": "display_data"
    }
   ],
   "source": [
    "transform= Transform()\n",
    "dataset = Myfont_dataset2(data, opts.correct_impression_word_list, ID, char_num = 3, transform=transform)\n",
    "num = len(dataset)\n",
    "dataloader = torch.utils.data.DataLoader(dataset, batch_size=num, shuffle=False, collate_fn = collate_fn)\n",
    "tmp = dataloader.__iter__()\n",
    "ground_truth = tmp.next()\n",
    "ground_imgs = ground_truth['img_target']\n",
    "ground_label = ground_truth['multi_label_target']\n",
    "idx =  torch.tensor([idx for idx, label in enumerate(ground_label) if 'ages' in label])\n",
    "print(len(idx)/3)\n",
    "idx = idx[:18]\n",
    "ground_img = ground_imgs[idx]\n",
    "print(len(ground_img))\n",
    "row = len(ground_img)//3\n",
    "col = 3\n",
    "plt.figure(figsize=(col, row))\n",
    "num = 0\n",
    "while num < row * col:\n",
    "    num += 1\n",
    "    plt.subplot(row, col, num)\n",
    "    plt.imshow(np.squeeze(ground_img[num-1]), cmap = \"gray\")\n",
    "    plt.axis('off')"
   ]
  },
  {
   "cell_type": "code",
   "execution_count": null,
   "id": "4f17c6e8",
   "metadata": {},
   "outputs": [],
   "source": []
  }
 ],
 "metadata": {
  "kernelspec": {
   "display_name": "Python 3",
   "language": "python",
   "name": "python3"
  },
  "language_info": {
   "codemirror_mode": {
    "name": "ipython",
    "version": 3
   },
   "file_extension": ".py",
   "mimetype": "text/x-python",
   "name": "python",
   "nbconvert_exporter": "python",
   "pygments_lexer": "ipython3",
   "version": "3.8.8"
  }
 },
 "nbformat": 4,
 "nbformat_minor": 5
}
